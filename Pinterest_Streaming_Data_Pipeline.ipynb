{
 "cells": [
  {
   "cell_type": "code",
   "execution_count": null,
   "metadata": {
    "application/vnd.databricks.v1+cell": {
     "cellMetadata": {
      "byteLimit": 2048000,
      "rowLimit": 10000
     },
     "inputWidgets": {},
     "nuid": "74130dbf-b238-45e1-a4d3-07991302319f",
     "showTitle": false,
     "title": ""
    }
   },
   "outputs": [
    {
     "data": {
      "text/html": [
       "<style scoped>\n",
       "  .ansiout {\n",
       "    display: block;\n",
       "    unicode-bidi: embed;\n",
       "    white-space: pre-wrap;\n",
       "    word-wrap: break-word;\n",
       "    word-break: break-all;\n",
       "    font-family: \"Menlo\", \"Monaco\", \"Consolas\", \"Ubuntu Mono\", \"Source Code Pro\", monospace;\n",
       "    font-size: 13px;\n",
       "    color: #555;\n",
       "    margin-left: 4px;\n",
       "    line-height: 19px;\n",
       "  }\n",
       "</style>\n",
       "<div class=\"ansiout\"></div>"
      ]
     },
     "metadata": {
      "application/vnd.databricks.v1+output": {
       "addedWidgets": {},
       "arguments": {},
       "data": "<div class=\"ansiout\"></div>",
       "datasetInfos": [],
       "metadata": {},
       "removedWidgets": [],
       "type": "html"
      }
     },
     "output_type": "display_data"
    }
   ],
   "source": [
    "from pyspark.sql.types import *\n",
    "from pyspark.sql.functions import *\n",
    "import urllib\n",
    "\n"
   ]
  },
  {
   "cell_type": "code",
   "execution_count": null,
   "metadata": {
    "application/vnd.databricks.v1+cell": {
     "cellMetadata": {
      "byteLimit": 2048000,
      "rowLimit": 10000
     },
     "inputWidgets": {},
     "nuid": "092786ef-4836-414c-bdf1-c19d9e934f19",
     "showTitle": false,
     "title": ""
    }
   },
   "outputs": [
    {
     "data": {
      "text/html": [
       "<style scoped>\n",
       "  .ansiout {\n",
       "    display: block;\n",
       "    unicode-bidi: embed;\n",
       "    white-space: pre-wrap;\n",
       "    word-wrap: break-word;\n",
       "    word-break: break-all;\n",
       "    font-family: \"Menlo\", \"Monaco\", \"Consolas\", \"Ubuntu Mono\", \"Source Code Pro\", monospace;\n",
       "    font-size: 13px;\n",
       "    color: #555;\n",
       "    margin-left: 4px;\n",
       "    line-height: 19px;\n",
       "  }\n",
       "</style>\n",
       "<div class=\"ansiout\"></div>"
      ]
     },
     "metadata": {
      "application/vnd.databricks.v1+output": {
       "addedWidgets": {},
       "arguments": {},
       "data": "<div class=\"ansiout\"></div>",
       "datasetInfos": [],
       "metadata": {},
       "removedWidgets": [],
       "type": "html"
      }
     },
     "output_type": "display_data"
    }
   ],
   "source": [
    "# Define the path to the Delta table\n",
    "delta_table_path = \"dbfs:/user/hive/warehouse/authentication_credentials\"\n",
    "\n",
    "# Read the Delta table to a Spark DataFrame\n",
    "aws_keys_df = spark.read.format(\"delta\").load(delta_table_path)\n",
    "\n",
    "# Get the AWS access key and secret key from the spark dataframe\n",
    "ACCESS_KEY = aws_keys_df.select('Access key ID').collect()[0]['Access key ID']\n",
    "SECRET_KEY = aws_keys_df.select('Secret access key').collect()[0]['Secret access key']\n",
    "# Encode the secrete key\n",
    "ENCODED_SECRET_KEY = urllib.parse.quote(string=SECRET_KEY, safe=\"\")\n"
   ]
  },
  {
   "cell_type": "code",
   "execution_count": null,
   "metadata": {
    "application/vnd.databricks.v1+cell": {
     "cellMetadata": {
      "byteLimit": 2048000,
      "rowLimit": 10000
     },
     "inputWidgets": {},
     "nuid": "2f2f9633-1d6c-4080-a04d-688f550b5503",
     "showTitle": false,
     "title": ""
    }
   },
   "outputs": [],
   "source": [
    "pin_df = spark \\\n",
    ".readStream \\\n",
    ".format('kinesis') \\\n",
    ".option('streamName','streaming-126dc60b95b3-pin') \\\n",
    ".option('initialPosition','earliest') \\\n",
    ".option('region','us-east-1') \\\n",
    ".option('awsAccessKey', ACCESS_KEY) \\\n",
    ".option('awsSecretKey', SECRET_KEY) \\\n",
    ".load()\n",
    "#Initialises the spark dataframe to read data from a kinesis stream. \n",
    "\n",
    "#Defines the schema for the pin dataframe and corresponds to the structure of the data that is expected from the stream.\n",
    "pin_schema = StructType([\n",
    "    StructField(\"category\", StringType(), True),\n",
    "    StructField(\"description\", StringType(), True),\n",
    "    StructField(\"downloaded\", IntegerType(), True),\n",
    "    StructField(\"follower_count\", IntegerType(), True), \n",
    "    StructField(\"image_src\", StringType(), True),\n",
    "    StructField(\"index\", IntegerType(), True),\n",
    "    StructField(\"is_image_or_video\", StringType(), True),\n",
    "    StructField(\"poster_name\", StringType(), True),\n",
    "    StructField(\"save_location\", StringType(), True),\n",
    "    StructField(\"tag_list\", StringType(), True),\n",
    "    StructField(\"title\", StringType(), True),\n",
    "    StructField(\"unique_id\", StringType(), True)\n",
    "])\n",
    "# Cast the data in the stream to a string then to JSON format before applying the defined schema. This allows for querying of the dataset.\n",
    "pin_df = pin_df \\\n",
    "    .selectExpr(\"cast(data as STRING) as json_data\") \\\n",
    "    .select(from_json(\"json_data\", pin_schema).alias(\"pin\")) \\\n",
    "    .select(\"pin.*\")\n",
    "\n",
    "display(pin_df)"
   ]
  },
  {
   "cell_type": "code",
   "execution_count": null,
   "metadata": {
    "application/vnd.databricks.v1+cell": {
     "cellMetadata": {
      "byteLimit": 2048000,
      "rowLimit": 10000
     },
     "inputWidgets": {},
     "nuid": "06c33b76-ed07-4378-871b-7f3d5b235c20",
     "showTitle": false,
     "title": ""
    }
   },
   "outputs": [],
   "source": [
    "#Initialises the spark dataframe to read data from a kinesis stream. \n",
    "geo_df = spark \\\n",
    ".readStream \\\n",
    ".format('kinesis') \\\n",
    ".option('streamName','streaming-126dc60b95b3-geo') \\\n",
    ".option('initialPosition','earliest') \\\n",
    ".option('region','us-east-1') \\\n",
    ".option('awsAccessKey', ACCESS_KEY) \\\n",
    ".option('awsSecretKey', SECRET_KEY) \\\n",
    ".load()\n",
    "\n",
    "\n",
    "#Defines the schema for the pin dataframe and corresponds to the structure of the data that is expected from the stream.\n",
    "geo_schema = StructType([\n",
    "    StructField(\"country\", StringType(), True),\n",
    "    StructField(\"ind\", StringType(), True),  # Assuming 'ind' is a string-type identifier\n",
    "    StructField(\"latitude\", FloatType(), True),\n",
    "    StructField(\"longitude\", FloatType(), True),\n",
    "    StructField(\"timestamp\", TimestampType(), True)\n",
    "])\n",
    "\n",
    "# Cast the data in the stream to a string then to JSON format before applying the defined schema. This allows for querying of the dataset.\n",
    "geo_df = geo_df \\\n",
    "    .selectExpr(\"cast(data as STRING) as json_data\") \\\n",
    "    .select(from_json(\"json_data\", geo_schema).alias(\"geo\")) \\\n",
    "    .select(\"geo.*\")\n",
    "\n",
    "display(geo_df)\n",
    "\n"
   ]
  },
  {
   "cell_type": "code",
   "execution_count": null,
   "metadata": {
    "application/vnd.databricks.v1+cell": {
     "cellMetadata": {
      "byteLimit": 2048000,
      "rowLimit": 10000
     },
     "inputWidgets": {},
     "nuid": "70d83244-f3e7-44fa-8e8b-9a9bdbaa940a",
     "showTitle": false,
     "title": ""
    }
   },
   "outputs": [],
   "source": [
    "#Initialises the spark dataframe to read data from a kinesis stream. \n",
    "user_df = spark \\\n",
    ".readStream \\\n",
    ".format('kinesis')\\\n",
    ".option('streamName','streaming-126dc60b95b3-user') \\\n",
    ".option('initialPosition','earliest') \\\n",
    ".option('region','us-east-1') \\\n",
    ".option('awsAccessKey', ACCESS_KEY) \\\n",
    ".option('awsSecretKey', SECRET_KEY) \\\n",
    ".load()\n",
    "\n",
    "#Defines the schema for the pin dataframe and corresponds to the structure of the data that is expected from the stream.\n",
    "user_schema = StructType([\n",
    "    StructField(\"ind\", StringType(), True),\n",
    "    StructField(\"first_name\", StringType(), True),\n",
    "    StructField(\"last_name\", StringType(), True),\n",
    "    StructField(\"age\", IntegerType(), True),\n",
    "    StructField(\"date_joined\", TimestampType(), True)\n",
    "])\n",
    "\n",
    "# Cast the data in the stream to a string then to JSON format before applying the defined schema. This allows for querying of the dataset.\n",
    "user_df = user_df \\\n",
    "    .selectExpr(\"cast(data as STRING) as json_data\") \\\n",
    "    .select(from_json(\"json_data\", user_schema).alias(\"user\")) \\\n",
    "    .select(\"user.*\")\n",
    "\n",
    "display(user_df)"
   ]
  },
  {
   "cell_type": "code",
   "execution_count": null,
   "metadata": {
    "application/vnd.databricks.v1+cell": {
     "cellMetadata": {
      "byteLimit": 2048000,
      "rowLimit": 10000
     },
     "inputWidgets": {},
     "nuid": "55d288ac-afd5-4282-abe9-9cba703dcdda",
     "showTitle": false,
     "title": ""
    }
   },
   "outputs": [
    {
     "data": {
      "text/html": [
       "<style scoped>\n",
       "  .ansiout {\n",
       "    display: block;\n",
       "    unicode-bidi: embed;\n",
       "    white-space: pre-wrap;\n",
       "    word-wrap: break-word;\n",
       "    word-break: break-all;\n",
       "    font-family: \"Menlo\", \"Monaco\", \"Consolas\", \"Ubuntu Mono\", \"Source Code Pro\", monospace;\n",
       "    font-size: 13px;\n",
       "    color: #555;\n",
       "    margin-left: 4px;\n",
       "    line-height: 19px;\n",
       "  }\n",
       "</style>\n",
       "<div class=\"ansiout\"></div>"
      ]
     },
     "metadata": {
      "application/vnd.databricks.v1+output": {
       "addedWidgets": {},
       "arguments": {},
       "data": "<div class=\"ansiout\"></div>",
       "datasetInfos": [],
       "metadata": {},
       "removedWidgets": [],
       "type": "html"
      }
     },
     "output_type": "display_data"
    }
   ],
   "source": [
    "# Pinterest Posts DF cleaning\n",
    "\n",
    "# Define the dictionary of replacements where empty strings, 'N/A', and hyphens are replaced with None (null values).\n",
    "replacements = {'': None, 'N/A': None, \"-\": None}\n",
    "\n",
    "# Apply the replacement dictionary across all columns of pin_df to clean the data.\n",
    "pin_df_cleaned = pin_df.na.replace(replacements, subset =[c for c in pin_df.columns])\n",
    "\n",
    "# Replace instances of 'k' in the 'follower_Count' column with '000' to convert the count from thousands to a full number.\n",
    "pin_df_cleaned = pin_df_cleaned.withColumn('follower_Count', regexp_replace('follower_Count', 'k', '000'))\n",
    "\n",
    "\n",
    "# Replace instances of 'M' in the 'follower_Count' column with '000000' for counts in millions to be represented as a full number.\n",
    "pin_df_cleaned = pin_df_cleaned.withColumn('follower_Count', regexp_replace('follower_Count', 'M', '000000'))\n",
    "\n",
    "# Remove the text \"Local save in \" from the 'save_location' column so the column is uniform.\n",
    "pin_df_cleaned = pin_df_cleaned.withColumn('save_location', regexp_replace('save_location', \"Local save in \", \"\"))\n",
    "\n",
    "# Rename the 'index' column to 'ind'.\n",
    "pin_df_cleaned = pin_df_cleaned.withColumnRenamed('index', \"ind\")\n",
    "\n",
    "# Reorder the columns for the cleaned DataFrame. \n",
    "pin_df_cleaned_ordered = pin_df_cleaned.select(\n",
    "    \"ind\", \"unique_id\", \"title\", \"description\", \"follower_count\", \n",
    "    \"poster_name\", \"tag_list\", \"is_image_or_video\", \"image_src\", \n",
    "    \"save_location\", \"category\", \"downloaded\"\n",
    ")\n",
    "\n"
   ]
  },
  {
   "cell_type": "code",
   "execution_count": null,
   "metadata": {
    "application/vnd.databricks.v1+cell": {
     "cellMetadata": {
      "byteLimit": 2048000,
      "rowLimit": 10000
     },
     "inputWidgets": {},
     "nuid": "3559e688-2c34-43c8-ba3f-491ce7aef5ff",
     "showTitle": false,
     "title": ""
    }
   },
   "outputs": [
    {
     "data": {
      "text/html": [
       "<style scoped>\n",
       "  .table-result-container {\n",
       "    max-height: 300px;\n",
       "    overflow: auto;\n",
       "  }\n",
       "  table, th, td {\n",
       "    border: 1px solid black;\n",
       "    border-collapse: collapse;\n",
       "  }\n",
       "  th, td {\n",
       "    padding: 5px;\n",
       "  }\n",
       "  th {\n",
       "    text-align: left;\n",
       "  }\n",
       "</style><div class='table-result-container'><table class='table-result'><thead style='background-color: white'><tr><th>ind</th><th>unique_id</th><th>title</th><th>description</th><th>follower_count</th><th>poster_name</th><th>tag_list</th><th>is_image_or_video</th><th>image_src</th><th>save_location</th><th>category</th><th>downloaded</th></tr></thead><tbody><tr><td>5730</td><td>1e1f0c8b-9fcf-460b-9154-c775827206eb</td><td>Island Oasis Coupon Organizer</td><td>Description Coupon Organizer in a fun colorful fabric -island oasis, Great Size for the \"basic\" couponer - holds up to 500 coupons with ease, and is made long enough so that you… </td><td>null</td><td>Consuelo Aguirre</td><td>Grocery Items,Grocery Coupons,Care Organization,Coupon Organization,Extreme Couponing,Couponing 101,Life Binder,Save My Money,Love Coupons</td><td>image</td><td>https://i.pinimg.com/originals/65/bb/ea/65bbeaf458907bb079317d8303c4fa0e.jpg</td><td>/data/finance</td><td>finance</td><td>1</td></tr><tr><td>8304</td><td>5b6d0913-25e4-43ab-839d-85d5516f78a4</td><td>The #1 Reason You’re Not His Priority Anymore - Matthew Coast</td><td>#lovequotes #matchmaker #matchmadeinheaven #loveyourself #respectyourself</td><td>null</td><td>Commitment Connection</td><td>Wise Quotes,Quotable Quotes,Words Quotes,Wise Words,Quotes To Live By,Great Quotes,Motivational Quotes,Inspirational Quotes,Funny Quotes</td><td>image</td><td>https://i.pinimg.com/originals/c6/64/ee/c664ee71524fb5a6e7b7b49233f93b43.png</td><td>/data/quotes</td><td>quotes</td><td>1</td></tr><tr><td>10794</td><td>c4bd2577-a7bb-4409-bb7a-17d5ed7e1cf1</td><td>TireBuyer</td><td>Nissan GT-R. Sick.</td><td>null</td><td>Ray Uyemura</td><td>Lowrider,Old Vintage Cars,Antique Cars,Austin Martin,Nissan Gtr Black,Jaguar,1959 Cadillac,Cadillac Ct6,Old School Cars</td><td>image</td><td>https://i.pinimg.com/originals/0d/29/9f/0d299f3df020395aa7ce8387f40fbeed.jpg</td><td>/data/vehicles</td><td>vehicles</td><td>1</td></tr><tr><td>5069</td><td>b75b6f87-deb3-444f-b29e-ce9161b2df49</td><td>The Vault: Curated & Refined Wedding Inspiration</td><td>Sacramento California Wedding 2 Chic Events & Design Jodi Yorston Photography Wilson Vineyards Barn Miosa Couture Yellow Barn Vineyard Outdoor Candles DIY</td><td>null</td><td>Style Me Pretty</td><td>60th Anniversary Parties,Anniversary Decorations,Golden Anniversary,25th Wedding Anniversary,Anniversary Pictures,Anniversary Ideas,Birthday Decorations,Event Planning Design,Event Design</td><td>image</td><td>https://i.pinimg.com/originals/7e/45/90/7e45905fefa36347e83333fd6d091140.jpg</td><td>/data/event-planning</td><td>event-planning</td><td>1</td></tr><tr><td>3454</td><td>46bd3f86-b09d-4e29-9033-7ff2df595e51</td><td>What can you use to color resin?</td><td>HELPFUL RESOURCES – Check out my resin colorants resources page here with links to all the products mentioned in this article (and more). Let me know if you have any that you lo… </td><td>null</td><td>Mixed Media Crafts</td><td>Epoxy Resin Art,Diy Resin Art,Diy Resin Crafts,Resin Molds,Ice Resin,Resin Pour,Diy Epoxy,Diy Resin Painting,Diy Resin Dice</td><td>image</td><td>https://i.pinimg.com/originals/d4/12/78/d4127833023ca32600571ddca16f1556.jpg</td><td>/data/diy-and-crafts</td><td>diy-and-crafts</td><td>1</td></tr><tr><td>8731</td><td>ea760f71-febf-4023-b592-d17396659039</td><td>20 Koi Fish Tattoos For Lucky Men</td><td>Koi fish tattoos are a popular choice for men who want to make a statement, thanks to their rich symbolism and bold design.</td><td>null</td><td>TheTrendSpotter</td><td>Dr Tattoo,Wörter Tattoos,Pisces Tattoos,Tatoo Art,Dream Tattoos,Dope Tattoos,Mini Tattoos,Finger Tattoos,Body Art Tattoos</td><td>image</td><td>https://i.pinimg.com/originals/8a/0c/0a/8a0c0a7b6236565c519acd41ad1a52c0.jpg</td><td>/data/tattoos</td><td>tattoos</td><td>1</td></tr><tr><td>4315</td><td>21b59ba9-829d-4c33-8c27-4cd4c56d26b8</td><td>Podcasts for Teachers or Parents of Teenagers</td><td>Podcasts for Teachers or Parents of Teenagers: Teaching teens middle school and high school can feel joyful and rewarding most days, but can also frustrate you with one challeng… </td><td>null</td><td>Math Giraffe</td><td>Middle School Classroom,High School Students,High School Teachers,Middle School Tips,High School Counseling,Ela Classroom,High School Science,Future Classroom,Google Classroom</td><td>image</td><td>https://i.pinimg.com/originals/50/19/31/501931a27ee4d076658980851b995b2c.jpg</td><td>/data/education</td><td>education</td><td>1</td></tr><tr><td>5494</td><td>8fb2af68-543b-4639-8119-de33d28706ed</td><td>Dave Ramsey's 7 Baby Steps: What Are They And Will They Work For You</td><td>If you love budgeting, make sure to give Dave Ramsey's 7 Baby Steps a try. Follow these steps to begin your debt snowball, build an emergency fund, invest and reach riches. I ca… </td><td>null</td><td>Living Low Key | Save Money, Make Money, & Frugal Living</td><td>Financial Peace,Financial Tips,Saving Money Quotes,Total Money Makeover,Budgeting Finances,Money Management,Wealth Management,Personal Finance,Making Ideas</td><td>image</td><td>https://i.pinimg.com/originals/1e/9d/90/1e9d906e4e150e3b95187f3b76ea7c71.png</td><td>/data/finance</td><td>finance</td><td>1</td></tr><tr><td>2923</td><td>52fa3af5-24a4-4ccb-8f17-9c3eb12327ee</td><td>UFO Paper Plate Craft</td><td>A fun space activity for kids. Preshoolers and kindergartners will love making their own alien spacecraft!</td><td>null</td><td>The Crafting Chicks</td><td>Paper Plate Crafts For Kids,Fun Crafts For Kids,Summer Crafts,Toddler Crafts,Art For Kids,Outer Space Crafts For Kids,Kid Crafts,Space Kids,Back To School Crafts For Kids</td><td>image</td><td>https://i.pinimg.com/originals/6f/e8/aa/6fe8aa405513c6d2f77b5f47d17cdce8.jpg</td><td>/data/diy-and-crafts</td><td>diy-and-crafts</td><td>1</td></tr><tr><td>6063</td><td>60693727-4927-4bd6-a8c5-096a392d63e6</td><td>41 Gorgeous Fall Decor Ideas For Your Home - Chaylor & Mads</td><td>Beautiful and easy ways to update every room in your home with fall decor. Plus, my favorite finds in fall decor for 2020!</td><td>null</td><td>Kristen | Lifestyle, Mom Tips & Teacher Stuff Blog</td><td>Fall Home Decor,Autumn Home,Fall Decor Outdoor,Front Porch Fall Decor,Home Decor Ideas,Porch Ideas For Fall,Fall Outdoor Decorating,Decorating Ideas For Fall,Fall Front Doors</td><td>image</td><td>https://i.pinimg.com/originals/e5/ae/dc/e5aedc14ce557e3a69f672e0f8c88f6e.png</td><td>/data/home-decor</td><td>home-decor</td><td>1</td></tr><tr><td>7528</td><td>fbe53c66-3442-4773-b19e-d3ec6f54dddf</td><td>No Title Data Available</td><td>No description available Story format</td><td>null</td><td>User Info Error</td><td>N,o, ,T,a,g,s, ,A,v,a,i,l,a,b,l,e</td><td>multi-video(story page format)</td><td>Image src error.</td><td>/data/mens-fashion</td><td>mens-fashion</td><td>0</td></tr><tr><td>2863</td><td>9bf39437-42a6-4f02-99a0-9a0383d8cd70</td><td>25 Super Fun Summer Crafts for Kids - Of Life and Lisa</td><td>Keep the kids busy this summer with these easy diy crafts and projects. Creative and…</td><td>null</td><td>Of Life & Lisa | Lifestyle Blog</td><td>Summer Crafts For Kids,Fun Crafts For Kids,Summer Kids,Toddler Crafts,Crafts To Do,Diy For Kids,Summer Snow,Diys For Summer,Craft Ideas For Girls</td><td>image</td><td>https://i.pinimg.com/originals/b3/bc/e2/b3bce2964e8c8975387b39660eed5f16.jpg</td><td>/data/diy-and-crafts</td><td>diy-and-crafts</td><td>1</td></tr><tr><td>1313</td><td>44662045-e891-4821-8a19-ebe7eedd371a</td><td>Liquid Lash Extensions Mascara</td><td>Instantly create the look of lash extensions with this award-winning, best-selling mascara that won't clump, flake or smudge. Available in 3 shades!</td><td>null</td><td>Thrive Causemetics</td><td>N,o, ,T,a,g,s, ,A,v,a,i,l,a,b,l,e</td><td>video</td><td>https://i.pinimg.com/videos/thumbnails/originals/69/84/e2/6984e20f3e262098fa9c0614c3453254.0000001.jpg</td><td>/data/beauty</td><td>beauty</td><td>1</td></tr><tr><td>3089</td><td>88f9227e-88d0-4b1c-b0be-bcfc3028b8e2</td><td>No Title Data Available</td><td>No description available Story format</td><td>null</td><td>User Info Error</td><td>N,o, ,T,a,g,s, ,A,v,a,i,l,a,b,l,e</td><td>multi-video(story page format)</td><td>Image src error.</td><td>/data/diy-and-crafts</td><td>diy-and-crafts</td><td>0</td></tr></tbody></table></div>"
      ]
     },
     "metadata": {
      "application/vnd.databricks.v1+output": {
       "addedWidgets": {},
       "aggData": [],
       "aggError": "",
       "aggOverflow": false,
       "aggSchema": [],
       "aggSeriesLimitReached": false,
       "aggType": "",
       "arguments": {},
       "columnCustomDisplayInfos": {},
       "data": [
        [
         5730,
         "1e1f0c8b-9fcf-460b-9154-c775827206eb",
         "Island Oasis Coupon Organizer",
         "Description Coupon Organizer in a fun colorful fabric -island oasis, Great Size for the \"basic\" couponer - holds up to 500 coupons with ease, and is made long enough so that you… ",
         null,
         "Consuelo Aguirre",
         "Grocery Items,Grocery Coupons,Care Organization,Coupon Organization,Extreme Couponing,Couponing 101,Life Binder,Save My Money,Love Coupons",
         "image",
         "https://i.pinimg.com/originals/65/bb/ea/65bbeaf458907bb079317d8303c4fa0e.jpg",
         "/data/finance",
         "finance",
         1
        ],
        [
         8304,
         "5b6d0913-25e4-43ab-839d-85d5516f78a4",
         "The #1 Reason You’re Not His Priority Anymore - Matthew Coast",
         "#lovequotes #matchmaker #matchmadeinheaven #loveyourself #respectyourself",
         null,
         "Commitment Connection",
         "Wise Quotes,Quotable Quotes,Words Quotes,Wise Words,Quotes To Live By,Great Quotes,Motivational Quotes,Inspirational Quotes,Funny Quotes",
         "image",
         "https://i.pinimg.com/originals/c6/64/ee/c664ee71524fb5a6e7b7b49233f93b43.png",
         "/data/quotes",
         "quotes",
         1
        ],
        [
         10794,
         "c4bd2577-a7bb-4409-bb7a-17d5ed7e1cf1",
         "TireBuyer",
         "Nissan GT-R. Sick.",
         null,
         "Ray Uyemura",
         "Lowrider,Old Vintage Cars,Antique Cars,Austin Martin,Nissan Gtr Black,Jaguar,1959 Cadillac,Cadillac Ct6,Old School Cars",
         "image",
         "https://i.pinimg.com/originals/0d/29/9f/0d299f3df020395aa7ce8387f40fbeed.jpg",
         "/data/vehicles",
         "vehicles",
         1
        ],
        [
         5069,
         "b75b6f87-deb3-444f-b29e-ce9161b2df49",
         "The Vault: Curated & Refined Wedding Inspiration",
         "Sacramento California Wedding 2 Chic Events & Design Jodi Yorston Photography Wilson Vineyards Barn Miosa Couture Yellow Barn Vineyard Outdoor Candles DIY",
         null,
         "Style Me Pretty",
         "60th Anniversary Parties,Anniversary Decorations,Golden Anniversary,25th Wedding Anniversary,Anniversary Pictures,Anniversary Ideas,Birthday Decorations,Event Planning Design,Event Design",
         "image",
         "https://i.pinimg.com/originals/7e/45/90/7e45905fefa36347e83333fd6d091140.jpg",
         "/data/event-planning",
         "event-planning",
         1
        ],
        [
         3454,
         "46bd3f86-b09d-4e29-9033-7ff2df595e51",
         "What can you use to color resin?",
         "HELPFUL RESOURCES – Check out my resin colorants resources page here with links to all the products mentioned in this article (and more). Let me know if you have any that you lo… ",
         null,
         "Mixed Media Crafts",
         "Epoxy Resin Art,Diy Resin Art,Diy Resin Crafts,Resin Molds,Ice Resin,Resin Pour,Diy Epoxy,Diy Resin Painting,Diy Resin Dice",
         "image",
         "https://i.pinimg.com/originals/d4/12/78/d4127833023ca32600571ddca16f1556.jpg",
         "/data/diy-and-crafts",
         "diy-and-crafts",
         1
        ],
        [
         8731,
         "ea760f71-febf-4023-b592-d17396659039",
         "20 Koi Fish Tattoos For Lucky Men",
         "Koi fish tattoos are a popular choice for men who want to make a statement, thanks to their rich symbolism and bold design.",
         null,
         "TheTrendSpotter",
         "Dr Tattoo,Wörter Tattoos,Pisces Tattoos,Tatoo Art,Dream Tattoos,Dope Tattoos,Mini Tattoos,Finger Tattoos,Body Art Tattoos",
         "image",
         "https://i.pinimg.com/originals/8a/0c/0a/8a0c0a7b6236565c519acd41ad1a52c0.jpg",
         "/data/tattoos",
         "tattoos",
         1
        ],
        [
         4315,
         "21b59ba9-829d-4c33-8c27-4cd4c56d26b8",
         "Podcasts for Teachers or Parents of Teenagers",
         "Podcasts for Teachers or Parents of Teenagers: Teaching teens middle school and high school can feel joyful and rewarding most days, but can also frustrate you with one challeng… ",
         null,
         "Math Giraffe",
         "Middle School Classroom,High School Students,High School Teachers,Middle School Tips,High School Counseling,Ela Classroom,High School Science,Future Classroom,Google Classroom",
         "image",
         "https://i.pinimg.com/originals/50/19/31/501931a27ee4d076658980851b995b2c.jpg",
         "/data/education",
         "education",
         1
        ],
        [
         5494,
         "8fb2af68-543b-4639-8119-de33d28706ed",
         "Dave Ramsey's 7 Baby Steps: What Are They And Will They Work For You",
         "If you love budgeting, make sure to give Dave Ramsey's 7 Baby Steps a try. Follow these steps to begin your debt snowball, build an emergency fund, invest and reach riches. I ca… ",
         null,
         "Living Low Key | Save Money, Make Money, & Frugal Living",
         "Financial Peace,Financial Tips,Saving Money Quotes,Total Money Makeover,Budgeting Finances,Money Management,Wealth Management,Personal Finance,Making Ideas",
         "image",
         "https://i.pinimg.com/originals/1e/9d/90/1e9d906e4e150e3b95187f3b76ea7c71.png",
         "/data/finance",
         "finance",
         1
        ],
        [
         2923,
         "52fa3af5-24a4-4ccb-8f17-9c3eb12327ee",
         "UFO Paper Plate Craft",
         "A fun space activity for kids. Preshoolers and kindergartners will love making their own alien spacecraft!",
         null,
         "The Crafting Chicks",
         "Paper Plate Crafts For Kids,Fun Crafts For Kids,Summer Crafts,Toddler Crafts,Art For Kids,Outer Space Crafts For Kids,Kid Crafts,Space Kids,Back To School Crafts For Kids",
         "image",
         "https://i.pinimg.com/originals/6f/e8/aa/6fe8aa405513c6d2f77b5f47d17cdce8.jpg",
         "/data/diy-and-crafts",
         "diy-and-crafts",
         1
        ],
        [
         6063,
         "60693727-4927-4bd6-a8c5-096a392d63e6",
         "41 Gorgeous Fall Decor Ideas For Your Home - Chaylor & Mads",
         "Beautiful and easy ways to update every room in your home with fall decor. Plus, my favorite finds in fall decor for 2020!",
         null,
         "Kristen | Lifestyle, Mom Tips & Teacher Stuff Blog",
         "Fall Home Decor,Autumn Home,Fall Decor Outdoor,Front Porch Fall Decor,Home Decor Ideas,Porch Ideas For Fall,Fall Outdoor Decorating,Decorating Ideas For Fall,Fall Front Doors",
         "image",
         "https://i.pinimg.com/originals/e5/ae/dc/e5aedc14ce557e3a69f672e0f8c88f6e.png",
         "/data/home-decor",
         "home-decor",
         1
        ],
        [
         7528,
         "fbe53c66-3442-4773-b19e-d3ec6f54dddf",
         "No Title Data Available",
         "No description available Story format",
         null,
         "User Info Error",
         "N,o, ,T,a,g,s, ,A,v,a,i,l,a,b,l,e",
         "multi-video(story page format)",
         "Image src error.",
         "/data/mens-fashion",
         "mens-fashion",
         0
        ],
        [
         2863,
         "9bf39437-42a6-4f02-99a0-9a0383d8cd70",
         "25 Super Fun Summer Crafts for Kids - Of Life and Lisa",
         "Keep the kids busy this summer with these easy diy crafts and projects. Creative and…",
         null,
         "Of Life & Lisa | Lifestyle Blog",
         "Summer Crafts For Kids,Fun Crafts For Kids,Summer Kids,Toddler Crafts,Crafts To Do,Diy For Kids,Summer Snow,Diys For Summer,Craft Ideas For Girls",
         "image",
         "https://i.pinimg.com/originals/b3/bc/e2/b3bce2964e8c8975387b39660eed5f16.jpg",
         "/data/diy-and-crafts",
         "diy-and-crafts",
         1
        ],
        [
         1313,
         "44662045-e891-4821-8a19-ebe7eedd371a",
         "Liquid Lash Extensions Mascara",
         "Instantly create the look of lash extensions with this award-winning, best-selling mascara that won't clump, flake or smudge. Available in 3 shades!",
         null,
         "Thrive Causemetics",
         "N,o, ,T,a,g,s, ,A,v,a,i,l,a,b,l,e",
         "video",
         "https://i.pinimg.com/videos/thumbnails/originals/69/84/e2/6984e20f3e262098fa9c0614c3453254.0000001.jpg",
         "/data/beauty",
         "beauty",
         1
        ],
        [
         3089,
         "88f9227e-88d0-4b1c-b0be-bcfc3028b8e2",
         "No Title Data Available",
         "No description available Story format",
         null,
         "User Info Error",
         "N,o, ,T,a,g,s, ,A,v,a,i,l,a,b,l,e",
         "multi-video(story page format)",
         "Image src error.",
         "/data/diy-and-crafts",
         "diy-and-crafts",
         0
        ]
       ],
       "datasetInfos": [],
       "dbfsResultPath": null,
       "isJsonSchema": true,
       "metadata": {
        "isDbfsCommandResult": false
       },
       "overflow": false,
       "plotOptions": {
        "customPlotOptions": {},
        "displayType": "table",
        "pivotAggregation": null,
        "pivotColumns": null,
        "xColumns": null,
        "yColumns": null
       },
       "removedWidgets": [],
       "schema": [
        {
         "metadata": "{}",
         "name": "ind",
         "type": "\"integer\""
        },
        {
         "metadata": "{}",
         "name": "unique_id",
         "type": "\"string\""
        },
        {
         "metadata": "{}",
         "name": "title",
         "type": "\"string\""
        },
        {
         "metadata": "{}",
         "name": "description",
         "type": "\"string\""
        },
        {
         "metadata": "{}",
         "name": "follower_count",
         "type": "\"string\""
        },
        {
         "metadata": "{}",
         "name": "poster_name",
         "type": "\"string\""
        },
        {
         "metadata": "{}",
         "name": "tag_list",
         "type": "\"string\""
        },
        {
         "metadata": "{}",
         "name": "is_image_or_video",
         "type": "\"string\""
        },
        {
         "metadata": "{}",
         "name": "image_src",
         "type": "\"string\""
        },
        {
         "metadata": "{}",
         "name": "save_location",
         "type": "\"string\""
        },
        {
         "metadata": "{}",
         "name": "category",
         "type": "\"string\""
        },
        {
         "metadata": "{}",
         "name": "downloaded",
         "type": "\"integer\""
        }
       ],
       "type": "table"
      }
     },
     "output_type": "display_data"
    }
   ],
   "source": [
    "display(pin_df_cleaned_ordered)"
   ]
  },
  {
   "cell_type": "code",
   "execution_count": null,
   "metadata": {
    "application/vnd.databricks.v1+cell": {
     "cellMetadata": {
      "byteLimit": 2048000,
      "rowLimit": 10000
     },
     "inputWidgets": {},
     "nuid": "10a31c9f-1c24-45c8-82ac-b96d22bec758",
     "showTitle": false,
     "title": ""
    }
   },
   "outputs": [
    {
     "data": {
      "text/html": [
       "<style scoped>\n",
       "  .ansiout {\n",
       "    display: block;\n",
       "    unicode-bidi: embed;\n",
       "    white-space: pre-wrap;\n",
       "    word-wrap: break-word;\n",
       "    word-break: break-all;\n",
       "    font-family: \"Menlo\", \"Monaco\", \"Consolas\", \"Ubuntu Mono\", \"Source Code Pro\", monospace;\n",
       "    font-size: 13px;\n",
       "    color: #555;\n",
       "    margin-left: 4px;\n",
       "    line-height: 19px;\n",
       "  }\n",
       "</style>\n",
       "<div class=\"ansiout\"></div>"
      ]
     },
     "metadata": {
      "application/vnd.databricks.v1+output": {
       "addedWidgets": {},
       "arguments": {},
       "data": "<div class=\"ansiout\"></div>",
       "datasetInfos": [],
       "metadata": {},
       "removedWidgets": [],
       "type": "html"
      }
     },
     "output_type": "display_data"
    }
   ],
   "source": [
    "# Pinterest Geo DF cleaning\n",
    "# Cleaning the Geo dataframe by creating the 'coordinates' columns using an array of the 'longitude' and 'latitude' columns.\n",
    "cleaned_geo_df = geo_df.withColumn(\"coordinates\", array(geo_df.longitude, geo_df.latitude))\n",
    "\n",
    "#Dropping the original 'latitude' and 'longitude' columns as they are no longer necessary.\n",
    "cleaned_geo_df = cleaned_geo_df.drop(\"latitude\", \"longitude\")\n",
    "\n",
    "# Casting the 'timestamp' column to a timestamp type.\n",
    "cleaned_geo_df = cleaned_geo_df.withColumn('timestamp', col('timestamp').cast('timestamp'))\n",
    "\n",
    "# Re-ordering the columns.\n",
    "cleaned_geo_df = cleaned_geo_df.select(\"ind\", \"country\", \"coordinates\", \"timestamp\")\n"
   ]
  },
  {
   "cell_type": "code",
   "execution_count": null,
   "metadata": {
    "application/vnd.databricks.v1+cell": {
     "cellMetadata": {
      "byteLimit": 2048000,
      "rowLimit": 10000
     },
     "inputWidgets": {},
     "nuid": "e5f428da-6144-4df7-911c-9a53c84a9576",
     "showTitle": false,
     "title": ""
    }
   },
   "outputs": [
    {
     "data": {
      "text/html": [
       "<style scoped>\n",
       "  .ansiout {\n",
       "    display: block;\n",
       "    unicode-bidi: embed;\n",
       "    white-space: pre-wrap;\n",
       "    word-wrap: break-word;\n",
       "    word-break: break-all;\n",
       "    font-family: \"Menlo\", \"Monaco\", \"Consolas\", \"Ubuntu Mono\", \"Source Code Pro\", monospace;\n",
       "    font-size: 13px;\n",
       "    color: #555;\n",
       "    margin-left: 4px;\n",
       "    line-height: 19px;\n",
       "  }\n",
       "</style>\n",
       "<div class=\"ansiout\"></div>"
      ]
     },
     "metadata": {
      "application/vnd.databricks.v1+output": {
       "addedWidgets": {},
       "arguments": {},
       "data": "<div class=\"ansiout\"></div>",
       "datasetInfos": [],
       "metadata": {},
       "removedWidgets": [],
       "type": "html"
      }
     },
     "output_type": "display_data"
    }
   ],
   "source": [
    "# Pinterest User DF Cleaning\n",
    "# Cleaning the User Dataframe by concatenating 'first_name' and 'last_name' into a single 'user_name' column.\n",
    "cleaned_user_df = user_df.withColumn(\"user_name\", concat_ws(\" \", \"first_name\", \"last_name\"))\n",
    "\n",
    "# Dropping the original 'first_name' and 'last_name' column as they are no longer necessary.\n",
    "cleaned_user_df = cleaned_user_df.drop(\"first_name\", \"last_name\")\n",
    "\n",
    "# Reordering the columns.\n",
    "cleaned_user_df = cleaned_user_df.select(\"ind\", \"user_name\", \"age\", \"date_joined\")\n",
    "\n",
    "# Casting the 'date_joined' column to a timestamp type.\n",
    "cleaned_user_df = cleaned_user_df.withColumn(\"date_joined\", col(\"date_joined\").cast('timestamp'))\n"
   ]
  },
  {
   "cell_type": "code",
   "execution_count": null,
   "metadata": {
    "application/vnd.databricks.v1+cell": {
     "cellMetadata": {
      "byteLimit": 2048000,
      "rowLimit": 10000
     },
     "inputWidgets": {},
     "nuid": "90c4e944-2b39-4e10-ae55-4e9b763580c8",
     "showTitle": false,
     "title": ""
    }
   },
   "outputs": [
    {
     "data": {
      "text/html": [
       "<style scoped>\n",
       "  .ansiout {\n",
       "    display: block;\n",
       "    unicode-bidi: embed;\n",
       "    white-space: pre-wrap;\n",
       "    word-wrap: break-word;\n",
       "    word-break: break-all;\n",
       "    font-family: \"Menlo\", \"Monaco\", \"Consolas\", \"Ubuntu Mono\", \"Source Code Pro\", monospace;\n",
       "    font-size: 13px;\n",
       "    color: #555;\n",
       "    margin-left: 4px;\n",
       "    line-height: 19px;\n",
       "  }\n",
       "</style>\n",
       "<div class=\"ansiout\">Out[24]: &lt;pyspark.sql.streaming.StreamingQuery at 0x7fc3c80e00d0&gt;</div>"
      ]
     },
     "metadata": {
      "application/vnd.databricks.v1+output": {
       "addedWidgets": {},
       "arguments": {},
       "data": "<div class=\"ansiout\">Out[24]: &lt;pyspark.sql.streaming.StreamingQuery at 0x7fc3c80e00d0&gt;</div>",
       "datasetInfos": [],
       "metadata": {},
       "removedWidgets": [],
       "type": "html"
      }
     },
     "output_type": "display_data"
    }
   ],
   "source": [
    "# Writing the cleaned Pinterest info dataframe to a Delta table.\n",
    "\n",
    "pin_df_cleaned_ordered.writeStream \\\n",
    "  .format(\"delta\") \\\n",
    "  .outputMode(\"append\") \\\n",
    "  .option(\"checkpointLocation\", \"/tmp/kinesis/_checkpoints/\") \\\n",
    "  .table(\"126dc60b95b3_pin_table\")"
   ]
  },
  {
   "cell_type": "code",
   "execution_count": null,
   "metadata": {
    "application/vnd.databricks.v1+cell": {
     "cellMetadata": {
      "byteLimit": 2048000,
      "rowLimit": 10000
     },
     "inputWidgets": {},
     "nuid": "9a4c31aa-6fd6-4a9f-93a8-21b384421607",
     "showTitle": false,
     "title": ""
    }
   },
   "outputs": [
    {
     "data": {
      "text/html": [
       "<style scoped>\n",
       "  .ansiout {\n",
       "    display: block;\n",
       "    unicode-bidi: embed;\n",
       "    white-space: pre-wrap;\n",
       "    word-wrap: break-word;\n",
       "    word-break: break-all;\n",
       "    font-family: \"Menlo\", \"Monaco\", \"Consolas\", \"Ubuntu Mono\", \"Source Code Pro\", monospace;\n",
       "    font-size: 13px;\n",
       "    color: #555;\n",
       "    margin-left: 4px;\n",
       "    line-height: 19px;\n",
       "  }\n",
       "</style>\n",
       "<div class=\"ansiout\">Out[25]: &lt;pyspark.sql.streaming.StreamingQuery at 0x7fc3c80ca430&gt;</div>"
      ]
     },
     "metadata": {
      "application/vnd.databricks.v1+output": {
       "addedWidgets": {},
       "arguments": {},
       "data": "<div class=\"ansiout\">Out[25]: &lt;pyspark.sql.streaming.StreamingQuery at 0x7fc3c80ca430&gt;</div>",
       "datasetInfos": [],
       "metadata": {},
       "removedWidgets": [],
       "type": "html"
      }
     },
     "output_type": "display_data"
    }
   ],
   "source": [
    "# Writing the cleaned User dataframe to a Delta table.\n",
    "cleaned_user_df.writeStream \\\n",
    "  .format(\"delta\") \\\n",
    "  .outputMode(\"append\") \\\n",
    "  .option(\"checkpointLocation\", \"/tmp/kinesis/_checkpoints/\") \\\n",
    "  .table(\"126dc60b95b3_user_table\")"
   ]
  },
  {
   "cell_type": "code",
   "execution_count": null,
   "metadata": {
    "application/vnd.databricks.v1+cell": {
     "cellMetadata": {
      "byteLimit": 2048000,
      "rowLimit": 10000
     },
     "inputWidgets": {},
     "nuid": "985fe001-2262-4eda-bd64-eabcf48f2169",
     "showTitle": false,
     "title": ""
    }
   },
   "outputs": [
    {
     "data": {
      "text/html": [
       "<style scoped>\n",
       "  .table-result-container {\n",
       "    max-height: 300px;\n",
       "    overflow: auto;\n",
       "  }\n",
       "  table, th, td {\n",
       "    border: 1px solid black;\n",
       "    border-collapse: collapse;\n",
       "  }\n",
       "  th, td {\n",
       "    padding: 5px;\n",
       "  }\n",
       "  th {\n",
       "    text-align: left;\n",
       "  }\n",
       "</style><div class='table-result-container'><table class='table-result'><thead style='background-color: white'><tr><th>ind</th><th>country</th><th>coordinates</th><th>timestamp</th></tr></thead><tbody><tr><td>5730</td><td>Colombia</td><td>List(-101.437, -77.015)</td><td>2021-04-19T17:37:03.000+0000</td></tr><tr><td>8304</td><td>French Guiana</td><td>List(-164.87, -28.8852)</td><td>2019-09-13T04:50:29.000+0000</td></tr><tr><td>10794</td><td>Cocos (Keeling) Islands</td><td>List(-154.567, -89.5236)</td><td>2022-01-01T02:26:50.000+0000</td></tr><tr><td>5069</td><td>Azerbaijan</td><td>List(-157.474, -63.0063)</td><td>2021-03-20T09:32:44.000+0000</td></tr><tr><td>3454</td><td>Cambodia</td><td>List(49.8106, -0.375174)</td><td>2021-07-25T02:20:29.000+0000</td></tr><tr><td>8731</td><td>Aruba</td><td>List(-171.302, -83.104)</td><td>2020-07-17T04:39:09.000+0000</td></tr><tr><td>4315</td><td>Cote d'Ivoire</td><td>List(66.1003, -45.8508)</td><td>2019-12-15T03:51:28.000+0000</td></tr><tr><td>5494</td><td>Bulgaria</td><td>List(-129.202, -82.6768)</td><td>2021-07-21T02:02:35.000+0000</td></tr><tr><td>2923</td><td>Cote d'Ivoire</td><td>List(-164.507, -84.6302)</td><td>2019-09-08T22:53:09.000+0000</td></tr><tr><td>6063</td><td>Anguilla</td><td>List(-174.015, -89.1797)</td><td>2021-07-20T09:02:47.000+0000</td></tr><tr><td>7528</td><td>Albania</td><td>List(-173.293, -89.9787)</td><td>2020-08-28T03:52:47.000+0000</td></tr><tr><td>2863</td><td>Armenia</td><td>List(-177.924, -5.34445)</td><td>2020-04-27T13:34:16.000+0000</td></tr><tr><td>1313</td><td>Maldives</td><td>List(61.9119, 77.0447)</td><td>2018-06-26T02:39:25.000+0000</td></tr><tr><td>3089</td><td>Albania</td><td>List(-173.293, -89.9787)</td><td>2018-02-28T05:31:29.000+0000</td></tr><tr><td>10794</td><td>Cocos (Keeling) Islands</td><td>List(-154.567, -89.5236)</td><td>2022-01-01T02:26:50.000+0000</td></tr><tr><td>5069</td><td>Azerbaijan</td><td>List(-157.474, -63.0063)</td><td>2021-03-20T09:32:44.000+0000</td></tr><tr><td>3454</td><td>Cambodia</td><td>List(49.8106, -0.375174)</td><td>2021-07-25T02:20:29.000+0000</td></tr><tr><td>10625</td><td>Jamaica</td><td>List(-81.0613, -84.4944)</td><td>2018-07-13T11:51:15.000+0000</td></tr><tr><td>2959</td><td>Angola</td><td>List(-157.227, -68.0095)</td><td>2019-08-19T08:22:02.000+0000</td></tr><tr><td>9672</td><td>India</td><td>List(-69.4133, 79.4658)</td><td>2019-11-03T13:15:52.000+0000</td></tr><tr><td>8653</td><td>Seychelles</td><td>List(-139.658, 48.4569)</td><td>2022-04-11T18:30:19.000+0000</td></tr><tr><td>1014</td><td>Tonga</td><td>List(69.3538, 81.1477)</td><td>2022-02-03T22:05:34.000+0000</td></tr><tr><td>4137</td><td>Australia</td><td>List(108.918, -55.3079)</td><td>2019-06-23T22:16:34.000+0000</td></tr><tr><td>9546</td><td>Austria</td><td>List(-155.428, -70.0295)</td><td>2018-02-10T06:16:40.000+0000</td></tr><tr><td>5076</td><td>Germany</td><td>List(-91.1935, -70.7195)</td><td>2019-05-05T16:22:23.000+0000</td></tr><tr><td>9759</td><td>American Samoa</td><td>List(-106.258, -77.9744)</td><td>2017-12-30T13:05:49.000+0000</td></tr><tr><td>8930</td><td>Argentina</td><td>List(-176.154, -89.4739)</td><td>2021-09-29T13:25:49.000+0000</td></tr><tr><td>2293</td><td>British Virgin Islands</td><td>List(-159.647, -87.7946)</td><td>2022-03-21T10:46:53.000+0000</td></tr><tr><td>2015</td><td>Armenia</td><td>List(-177.685, -17.629)</td><td>2018-09-22T13:52:19.000+0000</td></tr><tr><td>1094</td><td>Armenia</td><td>List(-124.445, -46.7328)</td><td>2018-08-19T00:34:20.000+0000</td></tr><tr><td>9936</td><td>Australia</td><td>List(-147.691, -82.1715)</td><td>2018-06-30T22:07:13.000+0000</td></tr><tr><td>3419</td><td>Bhutan</td><td>List(-108.979, 7.60293)</td><td>2021-12-20T05:01:54.000+0000</td></tr><tr><td>6566</td><td>Cape Verde</td><td>List(-71.6593, -39.225)</td><td>2020-11-19T10:06:13.000+0000</td></tr><tr><td>3800</td><td>Aruba</td><td>List(-154.912, -61.471)</td><td>2018-01-27T16:49:07.000+0000</td></tr><tr><td>5309</td><td>Maldives</td><td>List(-84.2493, -89.4194)</td><td>2020-05-04T22:00:32.000+0000</td></tr><tr><td>9074</td><td>Andorra</td><td>List(-179.087, -84.7363)</td><td>2022-04-10T17:06:13.000+0000</td></tr><tr><td>2858</td><td>Argentina</td><td>List(-166.807, -65.1565)</td><td>2018-05-03T13:27:09.000+0000</td></tr><tr><td>7167</td><td>Ecuador</td><td>List(-157.572, -55.757)</td><td>2019-12-27T20:45:04.000+0000</td></tr><tr><td>10673</td><td>Nicaragua</td><td>List(-32.1713, 37.1991)</td><td>2021-06-30T08:47:01.000+0000</td></tr><tr><td>5758</td><td>Azerbaijan</td><td>List(-145.242, -79.3714)</td><td>2018-09-12T15:08:34.000+0000</td></tr><tr><td>7234</td><td>Algeria</td><td>List(-169.547, -86.4791)</td><td>2017-10-21T14:31:02.000+0000</td></tr><tr><td>9093</td><td>Austria</td><td>List(-151.645, -87.7764)</td><td>2021-07-24T23:07:06.000+0000</td></tr><tr><td>8731</td><td>Aruba</td><td>List(-171.302, -83.104)</td><td>2020-07-17T04:39:09.000+0000</td></tr><tr><td>4315</td><td>Cote d'Ivoire</td><td>List(66.1003, -45.8508)</td><td>2019-12-15T03:51:28.000+0000</td></tr><tr><td>5494</td><td>Bulgaria</td><td>List(-129.202, -82.6768)</td><td>2021-07-21T02:02:35.000+0000</td></tr><tr><td>2923</td><td>Cote d'Ivoire</td><td>List(-164.507, -84.6302)</td><td>2019-09-08T22:53:09.000+0000</td></tr><tr><td>6063</td><td>Anguilla</td><td>List(-174.015, -89.1797)</td><td>2021-07-20T09:02:47.000+0000</td></tr><tr><td>428</td><td>Bangladesh</td><td>List(-150.788, -83.4105)</td><td>2020-09-27T18:46:41.000+0000</td></tr><tr><td>4913</td><td>Aruba</td><td>List(-157.544, -84.3768)</td><td>2019-03-08T06:45:39.000+0000</td></tr><tr><td>9590</td><td>Algeria</td><td>List(-174.281, -64.3876)</td><td>2019-05-20T19:48:48.000+0000</td></tr><tr><td>5468</td><td>Isle of Man</td><td>List(33.9473, -83.544)</td><td>2020-05-16T23:17:50.000+0000</td></tr><tr><td>7790</td><td>Papua New Guinea</td><td>List(64.9839, -43.692)</td><td>2018-07-31T08:19:15.000+0000</td></tr><tr><td>1704</td><td>Christmas Island</td><td>List(-93.6232, -56.8702)</td><td>2018-11-29T04:46:39.000+0000</td></tr><tr><td>7294</td><td>Australia</td><td>List(-136.501, -76.2967)</td><td>2018-02-12T08:06:28.000+0000</td></tr><tr><td>808</td><td>Albania</td><td>List(-179.126, -71.6856)</td><td>2019-01-03T15:43:12.000+0000</td></tr><tr><td>771</td><td>Montserrat</td><td>List(-107.111, -29.1712)</td><td>2018-06-21T08:42:57.000+0000</td></tr><tr><td>4076</td><td>Mauritania</td><td>List(27.8139, -67.2157)</td><td>2019-06-07T20:13:50.000+0000</td></tr><tr><td>1545</td><td>Anguilla</td><td>List(-72.3784, -30.18)</td><td>2022-06-17T05:47:12.000+0000</td></tr><tr><td>8578</td><td>Guinea-Bissau</td><td>List(-161.397, 34.6427)</td><td>2018-01-26T19:27:11.000+0000</td></tr><tr><td>1555</td><td>Algeria</td><td>List(-55.332, -1.7046)</td><td>2017-12-24T18:41:23.000+0000</td></tr><tr><td>552</td><td>Lesotho</td><td>List(31.9601, -80.6043)</td><td>2022-03-14T05:12:07.000+0000</td></tr><tr><td>1371</td><td>Andorra</td><td>List(-134.271, -89.4584)</td><td>2018-08-08T04:41:17.000+0000</td></tr><tr><td>10119</td><td>Christmas Island</td><td>List(-162.795, -74.5431)</td><td>2020-10-22T01:59:58.000+0000</td></tr><tr><td>2604</td><td>Antigua and Barbuda</td><td>List(-104.972, -80.8933)</td><td>2018-12-01T09:23:35.000+0000</td></tr><tr><td>6261</td><td>Marshall Islands</td><td>List(-109.763, -10.3101)</td><td>2021-11-11T16:18:45.000+0000</td></tr><tr><td>7510</td><td>Aruba</td><td>List(-172.235, -79.9828)</td><td>2021-12-21T01:37:25.000+0000</td></tr><tr><td>1137</td><td>Seychelles</td><td>List(10.7361, 12.2544)</td><td>2020-12-26T00:56:04.000+0000</td></tr><tr><td>327</td><td>Gibraltar</td><td>List(100.972, 62.3674)</td><td>2022-02-09T03:03:58.000+0000</td></tr><tr><td>10245</td><td>Bahamas</td><td>List(146.776, -50.1835)</td><td>2020-03-03T15:39:44.000+0000</td></tr><tr><td>7528</td><td>Albania</td><td>List(-173.293, -89.9787)</td><td>2020-08-28T03:52:47.000+0000</td></tr><tr><td>2863</td><td>Armenia</td><td>List(-177.924, -5.34445)</td><td>2020-04-27T13:34:16.000+0000</td></tr><tr><td>1313</td><td>Maldives</td><td>List(61.9119, 77.0447)</td><td>2018-06-26T02:39:25.000+0000</td></tr><tr><td>3089</td><td>Albania</td><td>List(-173.293, -89.9787)</td><td>2018-02-28T05:31:29.000+0000</td></tr><tr><td>6145</td><td>Mozambique</td><td>List(-143.845, -65.9079)</td><td>2019-12-05T02:09:44.000+0000</td></tr><tr><td>9875</td><td>Barbados</td><td>List(-110.484, -74.3382)</td><td>2020-03-20T13:03:18.000+0000</td></tr><tr><td>2418</td><td>Antarctica (the territory South of 60 deg S)</td><td>List(-171.061, -88.4642)</td><td>2022-05-27T11:30:59.000+0000</td></tr><tr><td>7343</td><td>Australia</td><td>List(-161.684, -65.4428)</td><td>2018-08-06T12:17:07.000+0000</td></tr><tr><td>2411</td><td>Albania</td><td>List(-179.126, -71.6856)</td><td>2020-11-15T17:10:07.000+0000</td></tr><tr><td>2698</td><td>Egypt</td><td>List(24.169, -72.7174)</td><td>2021-11-24T08:33:51.000+0000</td></tr><tr><td>831</td><td>Congo</td><td>List(-66.1592, -43.7816)</td><td>2021-06-23T23:16:10.000+0000</td></tr><tr><td>10663</td><td>Saint Kitts and Nevis</td><td>List(-162.83, -27.3474)</td><td>2019-07-25T18:53:51.000+0000</td></tr><tr><td>205</td><td>Barbados</td><td>List(-163.945, -75.8378)</td><td>2020-07-08T14:10:38.000+0000</td></tr><tr><td>2482</td><td>Bermuda</td><td>List(-164.709, 63.4563)</td><td>2019-09-13T08:20:13.000+0000</td></tr><tr><td>10509</td><td>Gibraltar</td><td>List(-24.2977, -67.187)</td><td>2019-03-06T12:21:56.000+0000</td></tr><tr><td>603</td><td>Netherlands Antilles</td><td>List(-141.603, 14.0083)</td><td>2019-06-25T05:13:01.000+0000</td></tr><tr><td>7768</td><td>Algeria</td><td>List(-96.0131, -88.355)</td><td>2018-05-25T21:34:19.000+0000</td></tr><tr><td>5630</td><td>Bahrain</td><td>List(-164.987, -19.1403)</td><td>2019-05-12T14:43:19.000+0000</td></tr><tr><td>3729</td><td>Turkey</td><td>List(-150.145, -24.4793)</td><td>2018-01-17T03:43:38.000+0000</td></tr><tr><td>6398</td><td>Albania</td><td>List(-179.726, -3.29267)</td><td>2020-01-19T01:49:05.000+0000</td></tr><tr><td>46</td><td>Afghanistan</td><td>List(-145.82, 4.21689)</td><td>2018-09-15T09:16:57.000+0000</td></tr><tr><td>4988</td><td>Madagascar</td><td>List(-35.2784, -32.1879)</td><td>2020-07-11T11:01:12.000+0000</td></tr><tr><td>3599</td><td>Afghanistan</td><td>List(-174.971, -88.5478)</td><td>2019-03-03T06:13:41.000+0000</td></tr><tr><td>10552</td><td>Grenada</td><td>List(-179.812, 32.7568)</td><td>2020-08-24T11:39:32.000+0000</td></tr><tr><td>8312</td><td>American Samoa</td><td>List(-106.258, -77.9744)</td><td>2021-04-25T15:56:29.000+0000</td></tr><tr><td>2637</td><td>Tunisia</td><td>List(-96.4904, 3.0033)</td><td>2022-10-15T13:25:51.000+0000</td></tr><tr><td>1198</td><td>Finland</td><td>List(-150.73, 6.37207)</td><td>2020-01-24T23:42:18.000+0000</td></tr><tr><td>10370</td><td>Finland</td><td>List(-71.932, -81.9798)</td><td>2018-07-29T15:53:40.000+0000</td></tr><tr><td>2060</td><td>Trinidad and Tobago</td><td>List(68.6527, 52.4584)</td><td>2020-01-25T13:54:17.000+0000</td></tr><tr><td>772</td><td>Monaco</td><td>List(-97.1964, 25.0708)</td><td>2022-09-22T05:59:55.000+0000</td></tr><tr><td>1450</td><td>American Samoa</td><td>List(-172.436, -88.5252)</td><td>2022-01-15T16:04:27.000+0000</td></tr><tr><td>5730</td><td>Colombia</td><td>List(-101.437, -77.015)</td><td>2021-04-19T17:37:03.000+0000</td></tr><tr><td>8304</td><td>French Guiana</td><td>List(-164.87, -28.8852)</td><td>2019-09-13T04:50:29.000+0000</td></tr><tr><td>7554</td><td>Sudan</td><td>List(-77.9768, -51.2172)</td><td>2019-03-20T03:15:07.000+0000</td></tr><tr><td>3156</td><td>Armenia</td><td>List(-160.795, -84.738)</td><td>2018-01-13T19:33:49.000+0000</td></tr><tr><td>2074</td><td>Central African Republic</td><td>List(-50.11, -52.3213)</td><td>2019-11-03T05:41:59.000+0000</td></tr><tr><td>9979</td><td>Dominican Republic</td><td>List(-120.682, 14.9967)</td><td>2018-07-18T19:01:46.000+0000</td></tr><tr><td>10138</td><td>Austria</td><td>List(-74.3545, -72.142)</td><td>2019-08-03T00:59:29.000+0000</td></tr><tr><td>8887</td><td>Botswana</td><td>List(-160.708, -28.0137)</td><td>2021-09-19T05:27:43.000+0000</td></tr><tr><td>7922</td><td>Antigua and Barbuda</td><td>List(-172.052, -88.0974)</td><td>2021-01-27T09:14:19.000+0000</td></tr><tr><td>7166</td><td>Aruba</td><td>List(-136.657, -86.4063)</td><td>2022-07-25T03:07:37.000+0000</td></tr><tr><td>4508</td><td>Philippines</td><td>List(-76.0761, 69.1858)</td><td>2019-01-04T11:15:27.000+0000</td></tr><tr><td>8606</td><td>Antigua and Barbuda</td><td>List(-172.052, -88.0974)</td><td>2021-03-28T14:54:07.000+0000</td></tr><tr><td>719</td><td>Armenia</td><td>List(-154.323, -38.4062)</td><td>2018-10-29T04:05:12.000+0000</td></tr><tr><td>6844</td><td>New Caledonia</td><td>List(5.69245, -22.6915)</td><td>2021-06-06T21:53:11.000+0000</td></tr><tr><td>1268</td><td>Argentina</td><td>List(-177.23, -41.7803)</td><td>2019-07-06T04:10:29.000+0000</td></tr><tr><td>427</td><td>Isle of Man</td><td>List(-30.0087, -66.9418)</td><td>2020-04-22T03:08:50.000+0000</td></tr><tr><td>159</td><td>Andorra</td><td>List(-166.603, -88.0812)</td><td>2017-11-20T21:14:56.000+0000</td></tr><tr><td>1422</td><td>American Samoa</td><td>List(-172.436, -88.5252)</td><td>2018-04-30T08:27:21.000+0000</td></tr><tr><td>223</td><td>Isle of Man</td><td>List(-118.397, 1.15509)</td><td>2018-12-07T07:30:40.000+0000</td></tr><tr><td>3201</td><td>Pitcairn Islands</td><td>List(-68.4946, 34.0532)</td><td>2019-06-25T08:31:37.000+0000</td></tr><tr><td>9487</td><td>Canada</td><td>List(-113.641, -76.9532)</td><td>2018-12-18T11:16:52.000+0000</td></tr><tr><td>7874</td><td>Algeria</td><td>List(-179.689, -89.5173)</td><td>2022-01-18T08:58:49.000+0000</td></tr><tr><td>2301</td><td>Saint Vincent and the Grenadines</td><td>List(51.7244, 13.4683)</td><td>2020-11-14T00:25:28.000+0000</td></tr><tr><td>2788</td><td>Djibouti</td><td>List(-94.1779, -36.076)</td><td>2019-12-18T03:04:41.000+0000</td></tr><tr><td>9268</td><td>American Samoa</td><td>List(-161.644, -88.5255)</td><td>2020-03-16T23:13:51.000+0000</td></tr><tr><td>1706</td><td>Aruba</td><td>List(-179.257, -71.5025)</td><td>2017-11-24T23:36:46.000+0000</td></tr><tr><td>5293</td><td>Sao Tome and Principe</td><td>List(-25.9649, -13.1463)</td><td>2019-05-31T20:49:36.000+0000</td></tr><tr><td>7733</td><td>Algeria</td><td>List(-179.689, -89.5173)</td><td>2022-09-29T10:45:19.000+0000</td></tr><tr><td>3716</td><td>Lithuania</td><td>List(-16.0578, 32.6648)</td><td>2018-12-31T20:43:42.000+0000</td></tr><tr><td>2048</td><td>Antigua and Barbuda</td><td>List(-142.186, -89.4008)</td><td>2017-11-20T06:33:50.000+0000</td></tr><tr><td>3334</td><td>Anguilla</td><td>List(-170.904, -89.0609)</td><td>2019-09-26T20:13:48.000+0000</td></tr><tr><td>6014</td><td>French Southern Territories</td><td>List(155.206, -26.6026)</td><td>2019-04-30T12:33:13.000+0000</td></tr><tr><td>3145</td><td>Kenya</td><td>List(-19.8932, -57.5981)</td><td>2022-06-18T22:46:26.000+0000</td></tr><tr><td>1341</td><td>Albania</td><td>List(-173.293, -89.9787)</td><td>2022-08-11T05:25:33.000+0000</td></tr><tr><td>3351</td><td>Portugal</td><td>List(-96.9091, -9.11859)</td><td>2020-09-12T10:34:11.000+0000</td></tr><tr><td>995</td><td>Moldova</td><td>List(-179.319, -88.0923)</td><td>2022-09-22T12:17:57.000+0000</td></tr><tr><td>3750</td><td>Comoros</td><td>List(-159.054, -73.8837)</td><td>2022-09-03T23:36:08.000+0000</td></tr><tr><td>8978</td><td>Faroe Islands</td><td>List(3.78198, -2.01499)</td><td>2017-12-01T13:26:06.000+0000</td></tr><tr><td>8366</td><td>Kuwait</td><td>List(-139.215, -38.5318)</td><td>2018-03-28T14:17:11.000+0000</td></tr><tr><td>480</td><td>Mozambique</td><td>List(-167.461, -30.7158)</td><td>2019-02-08T03:34:58.000+0000</td></tr><tr><td>7586</td><td>Andorra</td><td>List(-179.087, -84.7363)</td><td>2021-02-07T22:17:31.000+0000</td></tr><tr><td>10168</td><td>Norway</td><td>List(137.812, -14.7211)</td><td>2019-10-14T00:19:33.000+0000</td></tr><tr><td>5151</td><td>Guatemala</td><td>List(-151.397, -47.3372)</td><td>2020-07-15T01:42:38.000+0000</td></tr><tr><td>7268</td><td>Afghanistan</td><td>List(-164.273, -88.3754)</td><td>2019-12-11T14:05:18.000+0000</td></tr><tr><td>7738</td><td>Comoros</td><td>List(22.777, 66.8478)</td><td>2017-11-12T03:45:21.000+0000</td></tr><tr><td>232</td><td>Tanzania</td><td>List(-173.609, 6.60912)</td><td>2019-02-18T03:38:47.000+0000</td></tr><tr><td>8300</td><td>Chile</td><td>List(19.7049, -64.5259)</td><td>2018-02-14T23:50:10.000+0000</td></tr><tr><td>3011</td><td>Kuwait</td><td>List(28.8054, -76.4675)</td><td>2019-12-17T17:46:18.000+0000</td></tr><tr><td>9475</td><td>Panama</td><td>List(164.362, -84.1953)</td><td>2019-03-19T08:26:35.000+0000</td></tr><tr><td>1967</td><td>Australia</td><td>List(-179.581, 32.74)</td><td>2021-02-05T10:37:28.000+0000</td></tr><tr><td>2498</td><td>Togo</td><td>List(-51.05, 61.4706)</td><td>2021-04-03T18:10:34.000+0000</td></tr><tr><td>1362</td><td>Ghana</td><td>List(92.28, 48.3704)</td><td>2022-07-20T05:38:18.000+0000</td></tr><tr><td>10337</td><td>Christmas Island</td><td>List(-109.17, -42.3069)</td><td>2021-10-26T12:09:43.000+0000</td></tr><tr><td>7832</td><td>Israel</td><td>List(91.8136, -53.8629)</td><td>2022-02-14T13:47:24.000+0000</td></tr><tr><td>778</td><td>Guatemala</td><td>List(-123.073, 48.2704)</td><td>2018-10-19T14:43:39.000+0000</td></tr><tr><td>1864</td><td>Algeria</td><td>List(-164.414, -72.3958)</td><td>2020-04-24T17:08:13.000+0000</td></tr><tr><td>1699</td><td>Canada</td><td>List(-127.783, -54.3706)</td><td>2022-07-03T13:25:48.000+0000</td></tr><tr><td>4996</td><td>Poland</td><td>List(-118.569, 39.9625)</td><td>2019-04-16T23:49:42.000+0000</td></tr><tr><td>5333</td><td>Croatia</td><td>List(-173.898, -86.6652)</td><td>2021-01-20T08:10:08.000+0000</td></tr><tr><td>2565</td><td>Bulgaria</td><td>List(-177.336, -87.4992)</td><td>2022-02-06T13:42:35.000+0000</td></tr><tr><td>9778</td><td>Guam</td><td>List(126.628, 85.2343)</td><td>2020-08-24T14:24:42.000+0000</td></tr><tr><td>5162</td><td>Antarctica (the territory South of 60 deg S)</td><td>List(-149.206, -71.6607)</td><td>2019-09-27T19:06:43.000+0000</td></tr><tr><td>8886</td><td>American Samoa</td><td>List(-178.919, -88.2286)</td><td>2022-01-16T10:17:16.000+0000</td></tr><tr><td>5742</td><td>Jamaica</td><td>List(-61.56, -73.4926)</td><td>2020-09-02T01:40:18.000+0000</td></tr><tr><td>6250</td><td>Austria</td><td>List(-150.856, -73.2098)</td><td>2020-11-22T18:28:02.000+0000</td></tr><tr><td>3184</td><td>Cape Verde</td><td>List(-171.585, -41.293)</td><td>2018-09-25T23:17:46.000+0000</td></tr><tr><td>2955</td><td>Antigua and Barbuda</td><td>List(-23.4838, 23.7768)</td><td>2022-10-11T17:21:06.000+0000</td></tr><tr><td>4357</td><td>Bahamas</td><td>List(-179.908, -75.4909)</td><td>2020-03-06T09:56:43.000+0000</td></tr><tr><td>3563</td><td>Saint Barthelemy</td><td>List(-69.505, -77.3153)</td><td>2018-09-05T07:40:01.000+0000</td></tr><tr><td>6558</td><td>Guadeloupe</td><td>List(-174.009, -26.4944)</td><td>2019-09-08T03:27:31.000+0000</td></tr><tr><td>4256</td><td>Afghanistan</td><td>List(-174.971, -88.5478)</td><td>2018-10-10T17:57:16.000+0000</td></tr><tr><td>450</td><td>Antigua and Barbuda</td><td>List(-165.206, -81.0108)</td><td>2018-09-28T05:43:18.000+0000</td></tr><tr><td>859</td><td>Romania</td><td>List(48.2256, 89.8261)</td><td>2020-04-07T19:23:24.000+0000</td></tr><tr><td>3945</td><td>Barbados</td><td>List(-142.673, -66.2816)</td><td>2022-04-17T02:01:53.000+0000</td></tr><tr><td>1521</td><td>Saint Helena</td><td>List(64.9674, 24.5192)</td><td>2022-10-12T14:03:26.000+0000</td></tr><tr><td>10099</td><td>Afghanistan</td><td>List(-171.58, -89.4261)</td><td>2020-12-24T13:33:03.000+0000</td></tr><tr><td>1961</td><td>Argentina</td><td>List(-175.249, -65.3952)</td><td>2022-07-29T18:16:50.000+0000</td></tr><tr><td>6066</td><td>Bolivia</td><td>List(-174.505, -67.7278)</td><td>2019-03-04T01:04:11.000+0000</td></tr><tr><td>10837</td><td>Samoa</td><td>List(-26.2408, 86.6387)</td><td>2018-09-27T07:12:31.000+0000</td></tr><tr><td>6615</td><td>Wallis and Futuna</td><td>List(-32.8992, -25.2428)</td><td>2022-01-31T18:53:34.000+0000</td></tr><tr><td>7641</td><td>Albania</td><td>List(-177.109, -87.2)</td><td>2021-09-28T13:56:50.000+0000</td></tr><tr><td>640</td><td>Albania</td><td>List(-177.109, -87.2)</td><td>2019-07-12T16:46:03.000+0000</td></tr><tr><td>8174</td><td>Burkina Faso</td><td>List(-110.47, -66.6708)</td><td>2018-10-20T17:28:23.000+0000</td></tr><tr><td>1216</td><td>Albania</td><td>List(-152.834, -69.8134)</td><td>2020-07-19T23:57:16.000+0000</td></tr><tr><td>680</td><td>Bangladesh</td><td>List(-154.293, -73.1838)</td><td>2019-03-29T23:22:56.000+0000</td></tr><tr><td>9527</td><td>Turkmenistan</td><td>List(170.601, -38.4443)</td><td>2021-11-17T07:50:58.000+0000</td></tr><tr><td>9426</td><td>Sao Tome and Principe</td><td>List(-78.1449, -29.8646)</td><td>2021-06-30T02:14:47.000+0000</td></tr><tr><td>8745</td><td>Tuvalu</td><td>List(-59.7391, 31.6701)</td><td>2020-10-28T03:45:33.000+0000</td></tr><tr><td>5959</td><td>Cyprus</td><td>List(-17.5192, -44.9016)</td><td>2020-08-10T01:00:33.000+0000</td></tr><tr><td>2577</td><td>Aruba</td><td>List(-179.257, -71.5025)</td><td>2019-08-01T05:45:51.000+0000</td></tr><tr><td>3008</td><td>Venezuela</td><td>List(-58.7666, 0.314337)</td><td>2019-07-31T22:36:11.000+0000</td></tr><tr><td>8081</td><td>Egypt</td><td>List(-129.18, -33.8238)</td><td>2022-03-25T07:42:29.000+0000</td></tr><tr><td>10120</td><td>Isle of Man</td><td>List(-122.854, -55.1562)</td><td>2022-03-10T07:02:32.000+0000</td></tr><tr><td>4045</td><td>American Samoa</td><td>List(-166.033, -89.3099)</td><td>2018-03-11T23:01:08.000+0000</td></tr><tr><td>1599</td><td>Bolivia</td><td>List(111.323, 86.0967)</td><td>2019-02-05T14:58:20.000+0000</td></tr><tr><td>2893</td><td>Bermuda</td><td>List(-28.38, -68.5399)</td><td>2018-03-05T04:33:55.000+0000</td></tr><tr><td>4024</td><td>Aruba</td><td>List(-154.912, -61.471)</td><td>2019-10-19T10:03:03.000+0000</td></tr><tr><td>310</td><td>Antigua and Barbuda</td><td>List(-165.206, -81.0108)</td><td>2021-01-25T22:22:37.000+0000</td></tr><tr><td>7905</td><td>Namibia</td><td>List(-134.015, -47.8121)</td><td>2018-11-13T12:39:43.000+0000</td></tr><tr><td>5488</td><td>Finland</td><td>List(-107.324, -59.6163)</td><td>2021-03-14T05:55:21.000+0000</td></tr><tr><td>744</td><td>New Caledonia</td><td>List(58.7517, -76.8074)</td><td>2019-08-28T15:03:13.000+0000</td></tr><tr><td>7801</td><td>Afghanistan</td><td>List(-27.6285, -75.9161)</td><td>2017-11-18T22:54:58.000+0000</td></tr><tr><td>5620</td><td>Faroe Islands</td><td>List(-121.68, -53.6087)</td><td>2021-02-18T12:34:44.000+0000</td></tr><tr><td>8341</td><td>Somalia</td><td>List(-133.185, -16.5066)</td><td>2022-08-08T05:09:50.000+0000</td></tr><tr><td>10022</td><td>Benin</td><td>List(-89.4526, 70.5626)</td><td>2018-12-17T20:26:14.000+0000</td></tr><tr><td>6134</td><td>Austria</td><td>List(-128.482, -68.8136)</td><td>2022-04-03T12:34:59.000+0000</td></tr><tr><td>3824</td><td>British Virgin Islands</td><td>List(-170.019, -82.4276)</td><td>2018-10-28T19:22:34.000+0000</td></tr><tr><td>7116</td><td>Macao</td><td>List(72.4109, -18.3686)</td><td>2019-09-16T18:45:41.000+0000</td></tr><tr><td>74</td><td>Antigua and Barbuda</td><td>List(-165.206, -81.0108)</td><td>2020-01-29T14:03:35.000+0000</td></tr><tr><td>1335</td><td>Antarctica (the territory South of 60 deg S)</td><td>List(-175.682, -77.9931)</td><td>2022-03-19T17:29:42.000+0000</td></tr><tr><td>4513</td><td>Namibia</td><td>List(144.214, 22.2314)</td><td>2022-04-11T11:05:13.000+0000</td></tr><tr><td>7850</td><td>Vietnam</td><td>List(160.699, 26.5208)</td><td>2022-04-09T15:06:01.000+0000</td></tr><tr><td>10248</td><td>Equatorial Guinea</td><td>List(161.151, -31.9615)</td><td>2019-11-03T15:11:00.000+0000</td></tr><tr><td>8123</td><td>Morocco</td><td>List(-134.292, 80.2593)</td><td>2021-08-23T07:31:46.000+0000</td></tr><tr><td>2987</td><td>Dominica</td><td>List(-169.136, 83.1466)</td><td>2019-12-24T22:33:06.000+0000</td></tr></tbody></table></div>"
      ]
     },
     "metadata": {
      "application/vnd.databricks.v1+output": {
       "addedWidgets": {},
       "aggData": [],
       "aggError": "",
       "aggOverflow": false,
       "aggSchema": [],
       "aggSeriesLimitReached": false,
       "aggType": "",
       "arguments": {},
       "columnCustomDisplayInfos": {},
       "data": [
        [
         "5730",
         "Colombia",
         [
          -101.437,
          -77.015
         ],
         "2021-04-19T17:37:03.000+0000"
        ],
        [
         "8304",
         "French Guiana",
         [
          -164.87,
          -28.8852
         ],
         "2019-09-13T04:50:29.000+0000"
        ],
        [
         "10794",
         "Cocos (Keeling) Islands",
         [
          -154.567,
          -89.5236
         ],
         "2022-01-01T02:26:50.000+0000"
        ],
        [
         "5069",
         "Azerbaijan",
         [
          -157.474,
          -63.0063
         ],
         "2021-03-20T09:32:44.000+0000"
        ],
        [
         "3454",
         "Cambodia",
         [
          49.8106,
          -0.375174
         ],
         "2021-07-25T02:20:29.000+0000"
        ],
        [
         "8731",
         "Aruba",
         [
          -171.302,
          -83.104
         ],
         "2020-07-17T04:39:09.000+0000"
        ],
        [
         "4315",
         "Cote d'Ivoire",
         [
          66.1003,
          -45.8508
         ],
         "2019-12-15T03:51:28.000+0000"
        ],
        [
         "5494",
         "Bulgaria",
         [
          -129.202,
          -82.6768
         ],
         "2021-07-21T02:02:35.000+0000"
        ],
        [
         "2923",
         "Cote d'Ivoire",
         [
          -164.507,
          -84.6302
         ],
         "2019-09-08T22:53:09.000+0000"
        ],
        [
         "6063",
         "Anguilla",
         [
          -174.015,
          -89.1797
         ],
         "2021-07-20T09:02:47.000+0000"
        ],
        [
         "7528",
         "Albania",
         [
          -173.293,
          -89.9787
         ],
         "2020-08-28T03:52:47.000+0000"
        ],
        [
         "2863",
         "Armenia",
         [
          -177.924,
          -5.34445
         ],
         "2020-04-27T13:34:16.000+0000"
        ],
        [
         "1313",
         "Maldives",
         [
          61.9119,
          77.0447
         ],
         "2018-06-26T02:39:25.000+0000"
        ],
        [
         "3089",
         "Albania",
         [
          -173.293,
          -89.9787
         ],
         "2018-02-28T05:31:29.000+0000"
        ],
        [
         "10794",
         "Cocos (Keeling) Islands",
         [
          -154.567,
          -89.5236
         ],
         "2022-01-01T02:26:50.000+0000"
        ],
        [
         "5069",
         "Azerbaijan",
         [
          -157.474,
          -63.0063
         ],
         "2021-03-20T09:32:44.000+0000"
        ],
        [
         "3454",
         "Cambodia",
         [
          49.8106,
          -0.375174
         ],
         "2021-07-25T02:20:29.000+0000"
        ],
        [
         "10625",
         "Jamaica",
         [
          -81.0613,
          -84.4944
         ],
         "2018-07-13T11:51:15.000+0000"
        ],
        [
         "2959",
         "Angola",
         [
          -157.227,
          -68.0095
         ],
         "2019-08-19T08:22:02.000+0000"
        ],
        [
         "9672",
         "India",
         [
          -69.4133,
          79.4658
         ],
         "2019-11-03T13:15:52.000+0000"
        ],
        [
         "8653",
         "Seychelles",
         [
          -139.658,
          48.4569
         ],
         "2022-04-11T18:30:19.000+0000"
        ],
        [
         "1014",
         "Tonga",
         [
          69.3538,
          81.1477
         ],
         "2022-02-03T22:05:34.000+0000"
        ],
        [
         "4137",
         "Australia",
         [
          108.918,
          -55.3079
         ],
         "2019-06-23T22:16:34.000+0000"
        ],
        [
         "9546",
         "Austria",
         [
          -155.428,
          -70.0295
         ],
         "2018-02-10T06:16:40.000+0000"
        ],
        [
         "5076",
         "Germany",
         [
          -91.1935,
          -70.7195
         ],
         "2019-05-05T16:22:23.000+0000"
        ],
        [
         "9759",
         "American Samoa",
         [
          -106.258,
          -77.9744
         ],
         "2017-12-30T13:05:49.000+0000"
        ],
        [
         "8930",
         "Argentina",
         [
          -176.154,
          -89.4739
         ],
         "2021-09-29T13:25:49.000+0000"
        ],
        [
         "2293",
         "British Virgin Islands",
         [
          -159.647,
          -87.7946
         ],
         "2022-03-21T10:46:53.000+0000"
        ],
        [
         "2015",
         "Armenia",
         [
          -177.685,
          -17.629
         ],
         "2018-09-22T13:52:19.000+0000"
        ],
        [
         "1094",
         "Armenia",
         [
          -124.445,
          -46.7328
         ],
         "2018-08-19T00:34:20.000+0000"
        ],
        [
         "9936",
         "Australia",
         [
          -147.691,
          -82.1715
         ],
         "2018-06-30T22:07:13.000+0000"
        ],
        [
         "3419",
         "Bhutan",
         [
          -108.979,
          7.60293
         ],
         "2021-12-20T05:01:54.000+0000"
        ],
        [
         "6566",
         "Cape Verde",
         [
          -71.6593,
          -39.225
         ],
         "2020-11-19T10:06:13.000+0000"
        ],
        [
         "3800",
         "Aruba",
         [
          -154.912,
          -61.471
         ],
         "2018-01-27T16:49:07.000+0000"
        ],
        [
         "5309",
         "Maldives",
         [
          -84.2493,
          -89.4194
         ],
         "2020-05-04T22:00:32.000+0000"
        ],
        [
         "9074",
         "Andorra",
         [
          -179.087,
          -84.7363
         ],
         "2022-04-10T17:06:13.000+0000"
        ],
        [
         "2858",
         "Argentina",
         [
          -166.807,
          -65.1565
         ],
         "2018-05-03T13:27:09.000+0000"
        ],
        [
         "7167",
         "Ecuador",
         [
          -157.572,
          -55.757
         ],
         "2019-12-27T20:45:04.000+0000"
        ],
        [
         "10673",
         "Nicaragua",
         [
          -32.1713,
          37.1991
         ],
         "2021-06-30T08:47:01.000+0000"
        ],
        [
         "5758",
         "Azerbaijan",
         [
          -145.242,
          -79.3714
         ],
         "2018-09-12T15:08:34.000+0000"
        ],
        [
         "7234",
         "Algeria",
         [
          -169.547,
          -86.4791
         ],
         "2017-10-21T14:31:02.000+0000"
        ],
        [
         "9093",
         "Austria",
         [
          -151.645,
          -87.7764
         ],
         "2021-07-24T23:07:06.000+0000"
        ],
        [
         "8731",
         "Aruba",
         [
          -171.302,
          -83.104
         ],
         "2020-07-17T04:39:09.000+0000"
        ],
        [
         "4315",
         "Cote d'Ivoire",
         [
          66.1003,
          -45.8508
         ],
         "2019-12-15T03:51:28.000+0000"
        ],
        [
         "5494",
         "Bulgaria",
         [
          -129.202,
          -82.6768
         ],
         "2021-07-21T02:02:35.000+0000"
        ],
        [
         "2923",
         "Cote d'Ivoire",
         [
          -164.507,
          -84.6302
         ],
         "2019-09-08T22:53:09.000+0000"
        ],
        [
         "6063",
         "Anguilla",
         [
          -174.015,
          -89.1797
         ],
         "2021-07-20T09:02:47.000+0000"
        ],
        [
         "428",
         "Bangladesh",
         [
          -150.788,
          -83.4105
         ],
         "2020-09-27T18:46:41.000+0000"
        ],
        [
         "4913",
         "Aruba",
         [
          -157.544,
          -84.3768
         ],
         "2019-03-08T06:45:39.000+0000"
        ],
        [
         "9590",
         "Algeria",
         [
          -174.281,
          -64.3876
         ],
         "2019-05-20T19:48:48.000+0000"
        ],
        [
         "5468",
         "Isle of Man",
         [
          33.9473,
          -83.544
         ],
         "2020-05-16T23:17:50.000+0000"
        ],
        [
         "7790",
         "Papua New Guinea",
         [
          64.9839,
          -43.692
         ],
         "2018-07-31T08:19:15.000+0000"
        ],
        [
         "1704",
         "Christmas Island",
         [
          -93.6232,
          -56.8702
         ],
         "2018-11-29T04:46:39.000+0000"
        ],
        [
         "7294",
         "Australia",
         [
          -136.501,
          -76.2967
         ],
         "2018-02-12T08:06:28.000+0000"
        ],
        [
         "808",
         "Albania",
         [
          -179.126,
          -71.6856
         ],
         "2019-01-03T15:43:12.000+0000"
        ],
        [
         "771",
         "Montserrat",
         [
          -107.111,
          -29.1712
         ],
         "2018-06-21T08:42:57.000+0000"
        ],
        [
         "4076",
         "Mauritania",
         [
          27.8139,
          -67.2157
         ],
         "2019-06-07T20:13:50.000+0000"
        ],
        [
         "1545",
         "Anguilla",
         [
          -72.3784,
          -30.18
         ],
         "2022-06-17T05:47:12.000+0000"
        ],
        [
         "8578",
         "Guinea-Bissau",
         [
          -161.397,
          34.6427
         ],
         "2018-01-26T19:27:11.000+0000"
        ],
        [
         "1555",
         "Algeria",
         [
          -55.332,
          -1.7046
         ],
         "2017-12-24T18:41:23.000+0000"
        ],
        [
         "552",
         "Lesotho",
         [
          31.9601,
          -80.6043
         ],
         "2022-03-14T05:12:07.000+0000"
        ],
        [
         "1371",
         "Andorra",
         [
          -134.271,
          -89.4584
         ],
         "2018-08-08T04:41:17.000+0000"
        ],
        [
         "10119",
         "Christmas Island",
         [
          -162.795,
          -74.5431
         ],
         "2020-10-22T01:59:58.000+0000"
        ],
        [
         "2604",
         "Antigua and Barbuda",
         [
          -104.972,
          -80.8933
         ],
         "2018-12-01T09:23:35.000+0000"
        ],
        [
         "6261",
         "Marshall Islands",
         [
          -109.763,
          -10.3101
         ],
         "2021-11-11T16:18:45.000+0000"
        ],
        [
         "7510",
         "Aruba",
         [
          -172.235,
          -79.9828
         ],
         "2021-12-21T01:37:25.000+0000"
        ],
        [
         "1137",
         "Seychelles",
         [
          10.7361,
          12.2544
         ],
         "2020-12-26T00:56:04.000+0000"
        ],
        [
         "327",
         "Gibraltar",
         [
          100.972,
          62.3674
         ],
         "2022-02-09T03:03:58.000+0000"
        ],
        [
         "10245",
         "Bahamas",
         [
          146.776,
          -50.1835
         ],
         "2020-03-03T15:39:44.000+0000"
        ],
        [
         "7528",
         "Albania",
         [
          -173.293,
          -89.9787
         ],
         "2020-08-28T03:52:47.000+0000"
        ],
        [
         "2863",
         "Armenia",
         [
          -177.924,
          -5.34445
         ],
         "2020-04-27T13:34:16.000+0000"
        ],
        [
         "1313",
         "Maldives",
         [
          61.9119,
          77.0447
         ],
         "2018-06-26T02:39:25.000+0000"
        ],
        [
         "3089",
         "Albania",
         [
          -173.293,
          -89.9787
         ],
         "2018-02-28T05:31:29.000+0000"
        ],
        [
         "6145",
         "Mozambique",
         [
          -143.845,
          -65.9079
         ],
         "2019-12-05T02:09:44.000+0000"
        ],
        [
         "9875",
         "Barbados",
         [
          -110.484,
          -74.3382
         ],
         "2020-03-20T13:03:18.000+0000"
        ],
        [
         "2418",
         "Antarctica (the territory South of 60 deg S)",
         [
          -171.061,
          -88.4642
         ],
         "2022-05-27T11:30:59.000+0000"
        ],
        [
         "7343",
         "Australia",
         [
          -161.684,
          -65.4428
         ],
         "2018-08-06T12:17:07.000+0000"
        ],
        [
         "2411",
         "Albania",
         [
          -179.126,
          -71.6856
         ],
         "2020-11-15T17:10:07.000+0000"
        ],
        [
         "2698",
         "Egypt",
         [
          24.169,
          -72.7174
         ],
         "2021-11-24T08:33:51.000+0000"
        ],
        [
         "831",
         "Congo",
         [
          -66.1592,
          -43.7816
         ],
         "2021-06-23T23:16:10.000+0000"
        ],
        [
         "10663",
         "Saint Kitts and Nevis",
         [
          -162.83,
          -27.3474
         ],
         "2019-07-25T18:53:51.000+0000"
        ],
        [
         "205",
         "Barbados",
         [
          -163.945,
          -75.8378
         ],
         "2020-07-08T14:10:38.000+0000"
        ],
        [
         "2482",
         "Bermuda",
         [
          -164.709,
          63.4563
         ],
         "2019-09-13T08:20:13.000+0000"
        ],
        [
         "10509",
         "Gibraltar",
         [
          -24.2977,
          -67.187
         ],
         "2019-03-06T12:21:56.000+0000"
        ],
        [
         "603",
         "Netherlands Antilles",
         [
          -141.603,
          14.0083
         ],
         "2019-06-25T05:13:01.000+0000"
        ],
        [
         "7768",
         "Algeria",
         [
          -96.0131,
          -88.355
         ],
         "2018-05-25T21:34:19.000+0000"
        ],
        [
         "5630",
         "Bahrain",
         [
          -164.987,
          -19.1403
         ],
         "2019-05-12T14:43:19.000+0000"
        ],
        [
         "3729",
         "Turkey",
         [
          -150.145,
          -24.4793
         ],
         "2018-01-17T03:43:38.000+0000"
        ],
        [
         "6398",
         "Albania",
         [
          -179.726,
          -3.29267
         ],
         "2020-01-19T01:49:05.000+0000"
        ],
        [
         "46",
         "Afghanistan",
         [
          -145.82,
          4.21689
         ],
         "2018-09-15T09:16:57.000+0000"
        ],
        [
         "4988",
         "Madagascar",
         [
          -35.2784,
          -32.1879
         ],
         "2020-07-11T11:01:12.000+0000"
        ],
        [
         "3599",
         "Afghanistan",
         [
          -174.971,
          -88.5478
         ],
         "2019-03-03T06:13:41.000+0000"
        ],
        [
         "10552",
         "Grenada",
         [
          -179.812,
          32.7568
         ],
         "2020-08-24T11:39:32.000+0000"
        ],
        [
         "8312",
         "American Samoa",
         [
          -106.258,
          -77.9744
         ],
         "2021-04-25T15:56:29.000+0000"
        ],
        [
         "2637",
         "Tunisia",
         [
          -96.4904,
          3.0033
         ],
         "2022-10-15T13:25:51.000+0000"
        ],
        [
         "1198",
         "Finland",
         [
          -150.73,
          6.37207
         ],
         "2020-01-24T23:42:18.000+0000"
        ],
        [
         "10370",
         "Finland",
         [
          -71.932,
          -81.9798
         ],
         "2018-07-29T15:53:40.000+0000"
        ],
        [
         "2060",
         "Trinidad and Tobago",
         [
          68.6527,
          52.4584
         ],
         "2020-01-25T13:54:17.000+0000"
        ],
        [
         "772",
         "Monaco",
         [
          -97.1964,
          25.0708
         ],
         "2022-09-22T05:59:55.000+0000"
        ],
        [
         "1450",
         "American Samoa",
         [
          -172.436,
          -88.5252
         ],
         "2022-01-15T16:04:27.000+0000"
        ],
        [
         "5730",
         "Colombia",
         [
          -101.437,
          -77.015
         ],
         "2021-04-19T17:37:03.000+0000"
        ],
        [
         "8304",
         "French Guiana",
         [
          -164.87,
          -28.8852
         ],
         "2019-09-13T04:50:29.000+0000"
        ],
        [
         "7554",
         "Sudan",
         [
          -77.9768,
          -51.2172
         ],
         "2019-03-20T03:15:07.000+0000"
        ],
        [
         "3156",
         "Armenia",
         [
          -160.795,
          -84.738
         ],
         "2018-01-13T19:33:49.000+0000"
        ],
        [
         "2074",
         "Central African Republic",
         [
          -50.11,
          -52.3213
         ],
         "2019-11-03T05:41:59.000+0000"
        ],
        [
         "9979",
         "Dominican Republic",
         [
          -120.682,
          14.9967
         ],
         "2018-07-18T19:01:46.000+0000"
        ],
        [
         "10138",
         "Austria",
         [
          -74.3545,
          -72.142
         ],
         "2019-08-03T00:59:29.000+0000"
        ],
        [
         "8887",
         "Botswana",
         [
          -160.708,
          -28.0137
         ],
         "2021-09-19T05:27:43.000+0000"
        ],
        [
         "7922",
         "Antigua and Barbuda",
         [
          -172.052,
          -88.0974
         ],
         "2021-01-27T09:14:19.000+0000"
        ],
        [
         "7166",
         "Aruba",
         [
          -136.657,
          -86.4063
         ],
         "2022-07-25T03:07:37.000+0000"
        ],
        [
         "4508",
         "Philippines",
         [
          -76.0761,
          69.1858
         ],
         "2019-01-04T11:15:27.000+0000"
        ],
        [
         "8606",
         "Antigua and Barbuda",
         [
          -172.052,
          -88.0974
         ],
         "2021-03-28T14:54:07.000+0000"
        ],
        [
         "719",
         "Armenia",
         [
          -154.323,
          -38.4062
         ],
         "2018-10-29T04:05:12.000+0000"
        ],
        [
         "6844",
         "New Caledonia",
         [
          5.69245,
          -22.6915
         ],
         "2021-06-06T21:53:11.000+0000"
        ],
        [
         "1268",
         "Argentina",
         [
          -177.23,
          -41.7803
         ],
         "2019-07-06T04:10:29.000+0000"
        ],
        [
         "427",
         "Isle of Man",
         [
          -30.0087,
          -66.9418
         ],
         "2020-04-22T03:08:50.000+0000"
        ],
        [
         "159",
         "Andorra",
         [
          -166.603,
          -88.0812
         ],
         "2017-11-20T21:14:56.000+0000"
        ],
        [
         "1422",
         "American Samoa",
         [
          -172.436,
          -88.5252
         ],
         "2018-04-30T08:27:21.000+0000"
        ],
        [
         "223",
         "Isle of Man",
         [
          -118.397,
          1.15509
         ],
         "2018-12-07T07:30:40.000+0000"
        ],
        [
         "3201",
         "Pitcairn Islands",
         [
          -68.4946,
          34.0532
         ],
         "2019-06-25T08:31:37.000+0000"
        ],
        [
         "9487",
         "Canada",
         [
          -113.641,
          -76.9532
         ],
         "2018-12-18T11:16:52.000+0000"
        ],
        [
         "7874",
         "Algeria",
         [
          -179.689,
          -89.5173
         ],
         "2022-01-18T08:58:49.000+0000"
        ],
        [
         "2301",
         "Saint Vincent and the Grenadines",
         [
          51.7244,
          13.4683
         ],
         "2020-11-14T00:25:28.000+0000"
        ],
        [
         "2788",
         "Djibouti",
         [
          -94.1779,
          -36.076
         ],
         "2019-12-18T03:04:41.000+0000"
        ],
        [
         "9268",
         "American Samoa",
         [
          -161.644,
          -88.5255
         ],
         "2020-03-16T23:13:51.000+0000"
        ],
        [
         "1706",
         "Aruba",
         [
          -179.257,
          -71.5025
         ],
         "2017-11-24T23:36:46.000+0000"
        ],
        [
         "5293",
         "Sao Tome and Principe",
         [
          -25.9649,
          -13.1463
         ],
         "2019-05-31T20:49:36.000+0000"
        ],
        [
         "7733",
         "Algeria",
         [
          -179.689,
          -89.5173
         ],
         "2022-09-29T10:45:19.000+0000"
        ],
        [
         "3716",
         "Lithuania",
         [
          -16.0578,
          32.6648
         ],
         "2018-12-31T20:43:42.000+0000"
        ],
        [
         "2048",
         "Antigua and Barbuda",
         [
          -142.186,
          -89.4008
         ],
         "2017-11-20T06:33:50.000+0000"
        ],
        [
         "3334",
         "Anguilla",
         [
          -170.904,
          -89.0609
         ],
         "2019-09-26T20:13:48.000+0000"
        ],
        [
         "6014",
         "French Southern Territories",
         [
          155.206,
          -26.6026
         ],
         "2019-04-30T12:33:13.000+0000"
        ],
        [
         "3145",
         "Kenya",
         [
          -19.8932,
          -57.5981
         ],
         "2022-06-18T22:46:26.000+0000"
        ],
        [
         "1341",
         "Albania",
         [
          -173.293,
          -89.9787
         ],
         "2022-08-11T05:25:33.000+0000"
        ],
        [
         "3351",
         "Portugal",
         [
          -96.9091,
          -9.11859
         ],
         "2020-09-12T10:34:11.000+0000"
        ],
        [
         "995",
         "Moldova",
         [
          -179.319,
          -88.0923
         ],
         "2022-09-22T12:17:57.000+0000"
        ],
        [
         "3750",
         "Comoros",
         [
          -159.054,
          -73.8837
         ],
         "2022-09-03T23:36:08.000+0000"
        ],
        [
         "8978",
         "Faroe Islands",
         [
          3.78198,
          -2.01499
         ],
         "2017-12-01T13:26:06.000+0000"
        ],
        [
         "8366",
         "Kuwait",
         [
          -139.215,
          -38.5318
         ],
         "2018-03-28T14:17:11.000+0000"
        ],
        [
         "480",
         "Mozambique",
         [
          -167.461,
          -30.7158
         ],
         "2019-02-08T03:34:58.000+0000"
        ],
        [
         "7586",
         "Andorra",
         [
          -179.087,
          -84.7363
         ],
         "2021-02-07T22:17:31.000+0000"
        ],
        [
         "10168",
         "Norway",
         [
          137.812,
          -14.7211
         ],
         "2019-10-14T00:19:33.000+0000"
        ],
        [
         "5151",
         "Guatemala",
         [
          -151.397,
          -47.3372
         ],
         "2020-07-15T01:42:38.000+0000"
        ],
        [
         "7268",
         "Afghanistan",
         [
          -164.273,
          -88.3754
         ],
         "2019-12-11T14:05:18.000+0000"
        ],
        [
         "7738",
         "Comoros",
         [
          22.777,
          66.8478
         ],
         "2017-11-12T03:45:21.000+0000"
        ],
        [
         "232",
         "Tanzania",
         [
          -173.609,
          6.60912
         ],
         "2019-02-18T03:38:47.000+0000"
        ],
        [
         "8300",
         "Chile",
         [
          19.7049,
          -64.5259
         ],
         "2018-02-14T23:50:10.000+0000"
        ],
        [
         "3011",
         "Kuwait",
         [
          28.8054,
          -76.4675
         ],
         "2019-12-17T17:46:18.000+0000"
        ],
        [
         "9475",
         "Panama",
         [
          164.362,
          -84.1953
         ],
         "2019-03-19T08:26:35.000+0000"
        ],
        [
         "1967",
         "Australia",
         [
          -179.581,
          32.74
         ],
         "2021-02-05T10:37:28.000+0000"
        ],
        [
         "2498",
         "Togo",
         [
          -51.05,
          61.4706
         ],
         "2021-04-03T18:10:34.000+0000"
        ],
        [
         "1362",
         "Ghana",
         [
          92.28,
          48.3704
         ],
         "2022-07-20T05:38:18.000+0000"
        ],
        [
         "10337",
         "Christmas Island",
         [
          -109.17,
          -42.3069
         ],
         "2021-10-26T12:09:43.000+0000"
        ],
        [
         "7832",
         "Israel",
         [
          91.8136,
          -53.8629
         ],
         "2022-02-14T13:47:24.000+0000"
        ],
        [
         "778",
         "Guatemala",
         [
          -123.073,
          48.2704
         ],
         "2018-10-19T14:43:39.000+0000"
        ],
        [
         "1864",
         "Algeria",
         [
          -164.414,
          -72.3958
         ],
         "2020-04-24T17:08:13.000+0000"
        ],
        [
         "1699",
         "Canada",
         [
          -127.783,
          -54.3706
         ],
         "2022-07-03T13:25:48.000+0000"
        ],
        [
         "4996",
         "Poland",
         [
          -118.569,
          39.9625
         ],
         "2019-04-16T23:49:42.000+0000"
        ],
        [
         "5333",
         "Croatia",
         [
          -173.898,
          -86.6652
         ],
         "2021-01-20T08:10:08.000+0000"
        ],
        [
         "2565",
         "Bulgaria",
         [
          -177.336,
          -87.4992
         ],
         "2022-02-06T13:42:35.000+0000"
        ],
        [
         "9778",
         "Guam",
         [
          126.628,
          85.2343
         ],
         "2020-08-24T14:24:42.000+0000"
        ],
        [
         "5162",
         "Antarctica (the territory South of 60 deg S)",
         [
          -149.206,
          -71.6607
         ],
         "2019-09-27T19:06:43.000+0000"
        ],
        [
         "8886",
         "American Samoa",
         [
          -178.919,
          -88.2286
         ],
         "2022-01-16T10:17:16.000+0000"
        ],
        [
         "5742",
         "Jamaica",
         [
          -61.56,
          -73.4926
         ],
         "2020-09-02T01:40:18.000+0000"
        ],
        [
         "6250",
         "Austria",
         [
          -150.856,
          -73.2098
         ],
         "2020-11-22T18:28:02.000+0000"
        ],
        [
         "3184",
         "Cape Verde",
         [
          -171.585,
          -41.293
         ],
         "2018-09-25T23:17:46.000+0000"
        ],
        [
         "2955",
         "Antigua and Barbuda",
         [
          -23.4838,
          23.7768
         ],
         "2022-10-11T17:21:06.000+0000"
        ],
        [
         "4357",
         "Bahamas",
         [
          -179.908,
          -75.4909
         ],
         "2020-03-06T09:56:43.000+0000"
        ],
        [
         "3563",
         "Saint Barthelemy",
         [
          -69.505,
          -77.3153
         ],
         "2018-09-05T07:40:01.000+0000"
        ],
        [
         "6558",
         "Guadeloupe",
         [
          -174.009,
          -26.4944
         ],
         "2019-09-08T03:27:31.000+0000"
        ],
        [
         "4256",
         "Afghanistan",
         [
          -174.971,
          -88.5478
         ],
         "2018-10-10T17:57:16.000+0000"
        ],
        [
         "450",
         "Antigua and Barbuda",
         [
          -165.206,
          -81.0108
         ],
         "2018-09-28T05:43:18.000+0000"
        ],
        [
         "859",
         "Romania",
         [
          48.2256,
          89.8261
         ],
         "2020-04-07T19:23:24.000+0000"
        ],
        [
         "3945",
         "Barbados",
         [
          -142.673,
          -66.2816
         ],
         "2022-04-17T02:01:53.000+0000"
        ],
        [
         "1521",
         "Saint Helena",
         [
          64.9674,
          24.5192
         ],
         "2022-10-12T14:03:26.000+0000"
        ],
        [
         "10099",
         "Afghanistan",
         [
          -171.58,
          -89.4261
         ],
         "2020-12-24T13:33:03.000+0000"
        ],
        [
         "1961",
         "Argentina",
         [
          -175.249,
          -65.3952
         ],
         "2022-07-29T18:16:50.000+0000"
        ],
        [
         "6066",
         "Bolivia",
         [
          -174.505,
          -67.7278
         ],
         "2019-03-04T01:04:11.000+0000"
        ],
        [
         "10837",
         "Samoa",
         [
          -26.2408,
          86.6387
         ],
         "2018-09-27T07:12:31.000+0000"
        ],
        [
         "6615",
         "Wallis and Futuna",
         [
          -32.8992,
          -25.2428
         ],
         "2022-01-31T18:53:34.000+0000"
        ],
        [
         "7641",
         "Albania",
         [
          -177.109,
          -87.2
         ],
         "2021-09-28T13:56:50.000+0000"
        ],
        [
         "640",
         "Albania",
         [
          -177.109,
          -87.2
         ],
         "2019-07-12T16:46:03.000+0000"
        ],
        [
         "8174",
         "Burkina Faso",
         [
          -110.47,
          -66.6708
         ],
         "2018-10-20T17:28:23.000+0000"
        ],
        [
         "1216",
         "Albania",
         [
          -152.834,
          -69.8134
         ],
         "2020-07-19T23:57:16.000+0000"
        ],
        [
         "680",
         "Bangladesh",
         [
          -154.293,
          -73.1838
         ],
         "2019-03-29T23:22:56.000+0000"
        ],
        [
         "9527",
         "Turkmenistan",
         [
          170.601,
          -38.4443
         ],
         "2021-11-17T07:50:58.000+0000"
        ],
        [
         "9426",
         "Sao Tome and Principe",
         [
          -78.1449,
          -29.8646
         ],
         "2021-06-30T02:14:47.000+0000"
        ],
        [
         "8745",
         "Tuvalu",
         [
          -59.7391,
          31.6701
         ],
         "2020-10-28T03:45:33.000+0000"
        ],
        [
         "5959",
         "Cyprus",
         [
          -17.5192,
          -44.9016
         ],
         "2020-08-10T01:00:33.000+0000"
        ],
        [
         "2577",
         "Aruba",
         [
          -179.257,
          -71.5025
         ],
         "2019-08-01T05:45:51.000+0000"
        ],
        [
         "3008",
         "Venezuela",
         [
          -58.7666,
          0.314337
         ],
         "2019-07-31T22:36:11.000+0000"
        ],
        [
         "8081",
         "Egypt",
         [
          -129.18,
          -33.8238
         ],
         "2022-03-25T07:42:29.000+0000"
        ],
        [
         "10120",
         "Isle of Man",
         [
          -122.854,
          -55.1562
         ],
         "2022-03-10T07:02:32.000+0000"
        ],
        [
         "4045",
         "American Samoa",
         [
          -166.033,
          -89.3099
         ],
         "2018-03-11T23:01:08.000+0000"
        ],
        [
         "1599",
         "Bolivia",
         [
          111.323,
          86.0967
         ],
         "2019-02-05T14:58:20.000+0000"
        ],
        [
         "2893",
         "Bermuda",
         [
          -28.38,
          -68.5399
         ],
         "2018-03-05T04:33:55.000+0000"
        ],
        [
         "4024",
         "Aruba",
         [
          -154.912,
          -61.471
         ],
         "2019-10-19T10:03:03.000+0000"
        ],
        [
         "310",
         "Antigua and Barbuda",
         [
          -165.206,
          -81.0108
         ],
         "2021-01-25T22:22:37.000+0000"
        ],
        [
         "7905",
         "Namibia",
         [
          -134.015,
          -47.8121
         ],
         "2018-11-13T12:39:43.000+0000"
        ],
        [
         "5488",
         "Finland",
         [
          -107.324,
          -59.6163
         ],
         "2021-03-14T05:55:21.000+0000"
        ],
        [
         "744",
         "New Caledonia",
         [
          58.7517,
          -76.8074
         ],
         "2019-08-28T15:03:13.000+0000"
        ],
        [
         "7801",
         "Afghanistan",
         [
          -27.6285,
          -75.9161
         ],
         "2017-11-18T22:54:58.000+0000"
        ],
        [
         "5620",
         "Faroe Islands",
         [
          -121.68,
          -53.6087
         ],
         "2021-02-18T12:34:44.000+0000"
        ],
        [
         "8341",
         "Somalia",
         [
          -133.185,
          -16.5066
         ],
         "2022-08-08T05:09:50.000+0000"
        ],
        [
         "10022",
         "Benin",
         [
          -89.4526,
          70.5626
         ],
         "2018-12-17T20:26:14.000+0000"
        ],
        [
         "6134",
         "Austria",
         [
          -128.482,
          -68.8136
         ],
         "2022-04-03T12:34:59.000+0000"
        ],
        [
         "3824",
         "British Virgin Islands",
         [
          -170.019,
          -82.4276
         ],
         "2018-10-28T19:22:34.000+0000"
        ],
        [
         "7116",
         "Macao",
         [
          72.4109,
          -18.3686
         ],
         "2019-09-16T18:45:41.000+0000"
        ],
        [
         "74",
         "Antigua and Barbuda",
         [
          -165.206,
          -81.0108
         ],
         "2020-01-29T14:03:35.000+0000"
        ],
        [
         "1335",
         "Antarctica (the territory South of 60 deg S)",
         [
          -175.682,
          -77.9931
         ],
         "2022-03-19T17:29:42.000+0000"
        ],
        [
         "4513",
         "Namibia",
         [
          144.214,
          22.2314
         ],
         "2022-04-11T11:05:13.000+0000"
        ],
        [
         "7850",
         "Vietnam",
         [
          160.699,
          26.5208
         ],
         "2022-04-09T15:06:01.000+0000"
        ],
        [
         "10248",
         "Equatorial Guinea",
         [
          161.151,
          -31.9615
         ],
         "2019-11-03T15:11:00.000+0000"
        ],
        [
         "8123",
         "Morocco",
         [
          -134.292,
          80.2593
         ],
         "2021-08-23T07:31:46.000+0000"
        ],
        [
         "2987",
         "Dominica",
         [
          -169.136,
          83.1466
         ],
         "2019-12-24T22:33:06.000+0000"
        ]
       ],
       "datasetInfos": [],
       "dbfsResultPath": null,
       "isJsonSchema": true,
       "metadata": {},
       "overflow": false,
       "plotOptions": {
        "customPlotOptions": {},
        "displayType": "table",
        "pivotAggregation": null,
        "pivotColumns": null,
        "xColumns": null,
        "yColumns": null
       },
       "removedWidgets": [],
       "schema": [
        {
         "metadata": "{}",
         "name": "ind",
         "type": "\"string\""
        },
        {
         "metadata": "{}",
         "name": "country",
         "type": "\"string\""
        },
        {
         "metadata": "{}",
         "name": "coordinates",
         "type": "{\"type\":\"array\",\"elementType\":\"float\",\"containsNull\":true}"
        },
        {
         "metadata": "{}",
         "name": "timestamp",
         "type": "\"timestamp\""
        }
       ],
       "type": "table"
      }
     },
     "output_type": "display_data"
    }
   ],
   "source": [
    "display(cleaned_geo_df)"
   ]
  },
  {
   "cell_type": "code",
   "execution_count": null,
   "metadata": {
    "application/vnd.databricks.v1+cell": {
     "cellMetadata": {
      "byteLimit": 2048000,
      "rowLimit": 10000
     },
     "inputWidgets": {},
     "nuid": "2105742f-bd5d-4f4c-aa1a-94707b54036e",
     "showTitle": false,
     "title": ""
    }
   },
   "outputs": [
    {
     "data": {
      "text/html": [
       "<style scoped>\n",
       "  .ansiout {\n",
       "    display: block;\n",
       "    unicode-bidi: embed;\n",
       "    white-space: pre-wrap;\n",
       "    word-wrap: break-word;\n",
       "    word-break: break-all;\n",
       "    font-family: \"Menlo\", \"Monaco\", \"Consolas\", \"Ubuntu Mono\", \"Source Code Pro\", monospace;\n",
       "    font-size: 13px;\n",
       "    color: #555;\n",
       "    margin-left: 4px;\n",
       "    line-height: 19px;\n",
       "  }\n",
       "</style>\n",
       "<div class=\"ansiout\">Out[27]: &lt;pyspark.sql.streaming.StreamingQuery at 0x7fc3c2f78850&gt;</div>"
      ]
     },
     "metadata": {
      "application/vnd.databricks.v1+output": {
       "addedWidgets": {},
       "arguments": {},
       "data": "<div class=\"ansiout\">Out[27]: &lt;pyspark.sql.streaming.StreamingQuery at 0x7fc3c2f78850&gt;</div>",
       "datasetInfos": [],
       "metadata": {},
       "removedWidgets": [],
       "type": "html"
      }
     },
     "output_type": "display_data"
    }
   ],
   "source": [
    "# Writing the cleaned Geo table to a Delta table.\n",
    "cleaned_geo_df.writeStream \\\n",
    "  .format(\"delta\") \\\n",
    "  .outputMode(\"append\") \\\n",
    "  .option(\"checkpointLocation\", \"/tmp/kinesis/_checkpoints/\") \\\n",
    "  .table(\"126dc60b95b3_geo_table\")"
   ]
  }
 ],
 "metadata": {
  "application/vnd.databricks.v1+notebook": {
   "dashboards": [],
   "language": "python",
   "notebookMetadata": {
    "pythonIndentUnit": 4
   },
   "notebookName": "Pinterest Streaming Data",
   "widgets": {}
  },
  "language_info": {
   "name": "python"
  }
 },
 "nbformat": 4,
 "nbformat_minor": 0
}
